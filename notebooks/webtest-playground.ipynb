{
 "cells": [
  {
   "cell_type": "code",
   "execution_count": null,
   "metadata": {},
   "outputs": [],
   "source": [
    "from integration_test import web_url, test_username, do_api_call_v2, login, logout, set_slider_value, get_driver\n",
    "import numpy as np\n",
    "import requests\n",
    "from time import sleep\n",
    "from uuid import uuid1\n",
    "import shortuuid\n",
    "from backend.rating_fields import VIDEO_FIELDS, VIDEO_REPORT_FIELDS\n",
    "from integration_test import web_url, test_username, login, logout, set_slider_value, do_api_call_v2, create_test_video\n",
    "\n",
    "import os\n",
    "\n",
    "# for adding the videos to DB\n",
    "# don't use at the same time with the server running\n",
    "# https://stackoverflow.com/questions/59119396/how-to-use-django-3-0-orm-in-a-jupyter-notebook-without-triggering-the-async-con\n",
    "os.environ[\"DJANGO_ALLOW_ASYNC_UNSAFE\"] = \"true\"\n",
    "from backend.models import Video, EmailDomain\n",
    "\n",
    "import datetime\n",
    "from contextlib import contextmanager\n",
    "\n",
    "\n",
    "from unittest.mock import MagicMock\n",
    "django_db_blocker = MagicMock()"
   ]
  },
  {
   "cell_type": "code",
   "execution_count": null,
   "metadata": {},
   "outputs": [],
   "source": [
    "driver = get_driver()\n",
    "login(driver)"
   ]
  },
  {
   "cell_type": "code",
   "execution_count": null,
   "metadata": {},
   "outputs": [],
   "source": [
    "def _test_domains(driver, ack_email, rej_email, pend_email):\n",
    "    to_check = [(ack_email, 'accepted_domains_class'),\n",
    "                 (rej_email, 'rejected_domains_class'),\n",
    "                 (pend_email, 'pending_domains_class')]\n",
    "\n",
    "    for domain, elem_id in to_check:\n",
    "        links = driver.find_element_by_class_name(elem_id).find_elements_by_class_name('domain_link_class')\n",
    "        print(links)\n",
    "        global link\n",
    "        link = links[0]\n",
    "        print(dir(links[0]), links[0].text, links[0].tag_name, ack_email)\n",
    "        assert any([link.text == domain for link in links])\n",
    "\n",
    "@contextmanager\n",
    "def _create_emails(django_db_blocker):\n",
    "    ack_email = f\"@{uuid1()}.com\"\n",
    "    rej_email = f\"@{uuid1()}.org\"\n",
    "    pend_email = f\"@{uuid1()}.io\"\n",
    "\n",
    "    # creating email domains\n",
    "    with django_db_blocker.unblock():\n",
    "        EmailDomain.objects.create(domain=ack_email, status=EmailDomain.STATUS_ACCEPTED)\n",
    "        EmailDomain.objects.create(domain=rej_email, status=EmailDomain.STATUS_REJECTED)\n",
    "        EmailDomain.objects.create(domain=pend_email, status=EmailDomain.STATUS_PENDING)\n",
    "\n",
    "    yield ack_email, rej_email, pend_email\n",
    "\n",
    "    # deleting email domains\n",
    "    with django_db_blocker.unblock():\n",
    "        EmailDomain.objects.filter(domain__in=[ack_email, rej_email, pend_email]).delete()"
   ]
  },
  {
   "cell_type": "code",
   "execution_count": null,
   "metadata": {},
   "outputs": [],
   "source": [
    "# going to user personal profile\n",
    "driver.find_element_by_id('personal_info_menu').click()\n",
    "\n",
    "sleep(2)\n",
    "\n",
    "# going to the list of domains\n",
    "driver.find_element_by_class_name('to_verified_domains_class').click()\n",
    "sleep(1)\n"
   ]
  },
  {
   "cell_type": "code",
   "execution_count": null,
   "metadata": {},
   "outputs": [],
   "source": [
    "ack_email"
   ]
  },
  {
   "cell_type": "code",
   "execution_count": null,
   "metadata": {},
   "outputs": [],
   "source": [
    "driver.refresh()"
   ]
  },
  {
   "cell_type": "code",
   "execution_count": null,
   "metadata": {},
   "outputs": [],
   "source": [
    "\n",
    "\n",
    "with _create_emails(django_db_blocker) as domains:\n",
    "    ack_email, rej_email, pend_email = domains\n",
    "    driver.refresh()\n",
    "    _test_domains(driver, ack_email, rej_email, pend_email)\n",
    "\n"
   ]
  },
  {
   "cell_type": "code",
   "execution_count": null,
   "metadata": {},
   "outputs": [],
   "source": [
    "link.text"
   ]
  },
  {
   "cell_type": "code",
   "execution_count": null,
   "metadata": {},
   "outputs": [],
   "source": []
  }
 ],
 "metadata": {
  "kernelspec": {
   "display_name": "Django Shell-Plus",
   "language": "python",
   "name": "django_extensions"
  },
  "language_info": {
   "codemirror_mode": {
    "name": "ipython",
    "version": 3
   },
   "file_extension": ".py",
   "mimetype": "text/x-python",
   "name": "python",
   "nbconvert_exporter": "python",
   "pygments_lexer": "ipython3",
   "version": "3.7.9"
  }
 },
 "nbformat": 4,
 "nbformat_minor": 4
}
