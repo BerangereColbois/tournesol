{
 "cells": [
  {
   "cell_type": "code",
   "execution_count": null,
   "metadata": {},
   "outputs": [],
   "source": [
    "# for adding the videos to DB\n",
    "# don't use at the same time with the server running\n",
    "# https://stackoverflow.com/questions/59119396/how-to-use-django-3-0-orm-in-a-jupyter-notebook-without-triggering-the-async-con\n",
    "import os\n",
    "os.environ[\"DJANGO_ALLOW_ASYNC_UNSAFE\"] = \"true\"\n",
    "#from backend.ml_models import DatabasePreferenceLearner\n",
    "import numpy as np\n",
    "\n",
    "from django.contrib.auth.models import User as DjangoUser\n",
    "from backend.models import Video, UserPreferences\n",
    "from backend.ml_models import DatabasePreferenceLearner\n",
    "from backend.rating_fields import VIDEO_FIELDS\n",
    "\n",
    "#%pylab\n",
    "%matplotlib inline\n",
    "#%matplotlib widget\n",
    "\n",
    "from matplotlib import pyplot as plt\n",
    "import mplcursors\n",
    "\n",
    "import sys\n",
    "import requests\n",
    "from PIL import Image\n",
    "import seaborn as sns\n",
    "import pandas as pd"
   ]
  },
  {
   "cell_type": "code",
   "execution_count": null,
   "metadata": {},
   "outputs": [],
   "source": [
    "# loading the model\n",
    "learner = DatabasePreferenceLearner()\n",
    "\n",
    "# loading users\n",
    "users = UserPreferences.objects.all()\n",
    "\n",
    "def get_videos_and_embeddings(videos):\n",
    "    \"\"\"Select only videos with embeddings.\"\"\"\n",
    "    videos = [v for v in videos if v.embedding_np is not None]\n",
    "    embeddings = [v.embedding_np for v in videos]\n",
    "    embeddings = np.array(embeddings)\n",
    "    return videos, embeddings\n",
    "\n",
    "# loading videos with embeddings\n",
    "videos = Video.objects.all()\n",
    "videos, embeddings = get_videos_and_embeddings(videos)\n",
    "\n",
    "# predicting video characteristics\n",
    "predictor = learner.aggregator"
   ]
  },
  {
   "cell_type": "markdown",
   "metadata": {},
   "source": [
    "# Show predictions distribution (c.d.f.)"
   ]
  },
  {
   "cell_type": "code",
   "execution_count": null,
   "metadata": {},
   "outputs": [],
   "source": [
    "def plot_predictions_distribution(videos, predictor):\n",
    "    \"\"\"Plot c.d.f. of predictions.\"\"\"\n",
    "    \n",
    "    videos, embeddings = get_videos_and_embeddings(videos)\n",
    "    all_predictions = predictor(embeddings)\n",
    "    \n",
    "    plt.figure()\n",
    "    plt.title('Distribution of predictions')\n",
    "    for i, field in enumerate(VIDEO_FIELDS):\n",
    "        predictions = all_predictions[:, i]\n",
    "\n",
    "        plt.plot(sorted(predictions), range(len(predictions)), label=field)\n",
    "    plt.ylabel('Number of videos')\n",
    "    plt.xlabel('Predicted value')\n",
    "    plt.legend()\n",
    "    plt.show()\n",
    "\n",
    "plot_predictions_distribution(videos, predictor)"
   ]
  },
  {
   "cell_type": "markdown",
   "metadata": {},
   "source": [
    "# Show videos from the database"
   ]
  },
  {
   "cell_type": "code",
   "execution_count": null,
   "metadata": {},
   "outputs": [],
   "source": [
    "def get_video_picture(video_id, video_index=0):\n",
    "    \"\"\"Get video picture as np.array.\"\"\"\n",
    "    assert isinstance(video_id, str)\n",
    "    url = \"https://img.youtube.com/vi/%s/%d.jpg\" % (video_id, video_index)\n",
    "    r = requests.get(url, stream=True)\n",
    "    r.raw.decode_content = True # Content-Encoding\n",
    "    im = Image.open(r.raw) #NOTE: it requires pillow 2.8+\n",
    "    return np.array(im)"
   ]
  },
  {
   "cell_type": "code",
   "execution_count": null,
   "metadata": {},
   "outputs": [],
   "source": [
    "def plot_videos(videos, num_vids_x=4, num_vids_y=4):\n",
    "    \"\"\"Plot videos images.\"\"\"\n",
    "    plt.figure()\n",
    "    plt.suptitle('Videos in the database')\n",
    "    # num_vids = 16\n",
    "    \n",
    "    num_vids = num_vids_x * num_vids_y\n",
    "    assert num_vids_x * num_vids_y >= num_vids\n",
    "    vs = np.random.choice(videos, num_vids, replace=False)\n",
    "    for idx in range(1, num_vids + 1):\n",
    "        v = vs[idx - 1]\n",
    "        plt.subplot(num_vids_x, num_vids_y, idx)\n",
    "        plt.title(v.name[:10] + \"...\")\n",
    "        plt.imshow(get_video_picture(v.video_id))\n",
    "        plt.axis('off')\n",
    "    plt.show()"
   ]
  },
  {
   "cell_type": "code",
   "execution_count": null,
   "metadata": {},
   "outputs": [],
   "source": [
    "plot_videos(videos)"
   ]
  },
  {
   "cell_type": "markdown",
   "metadata": {},
   "source": [
    "# Plot characteristics summary"
   ]
  },
  {
   "cell_type": "code",
   "execution_count": null,
   "metadata": {},
   "outputs": [],
   "source": [
    "def plot_characteristic(videos, all_predictions, field):\n",
    "    \"\"\"Show a summary figure for one field.\"\"\"\n",
    "    i = VIDEO_FIELDS.index(field)\n",
    "    predictions = all_predictions[:, i]\n",
    "\n",
    "    fig, ax = fig, ax = plt.subplots(constrained_layout=True, figsize=(11, 3))\n",
    "    #fig2, ax2 = plt.subplots()\n",
    "    f_top = 2\n",
    "    height = 0.3\n",
    "    width = 0.3\n",
    "    num_videos_to_show = 10\n",
    "    bottom = 0.2 # image bottom\n",
    "\n",
    "    plt.title(\"Videos by %s. Hover over the points to see the details\" % field)\n",
    "    r_scatter = plt.scatter(predictions, np.zeros(len(predictions)), alpha=0.1, label='Videos')\n",
    "    plt.xlabel('Predicted %s' % field)\n",
    "    plt.ylabel('Videos')\n",
    "    labels = [v.name for v in videos]\n",
    "    cursor = mplcursors.cursor(hover=True)\n",
    "    cursor.connect(\"add\", lambda sel: sel.annotation.set_text(labels[sel.target.index]))\n",
    "\n",
    "    def show_image_idx(video_idx):\n",
    "        \"\"\"Show video picture on the chart.\"\"\"\n",
    "        v = videos[video_idx]\n",
    "        x_coord = predictions[video_idx]\n",
    "        width = 0.1\n",
    "\n",
    "        left = x_coord - width / 2\n",
    "        right = x_coord + width / 2\n",
    "        top = height + bottom\n",
    "\n",
    "        plt.imshow(get_video_picture(v.video_id), extent=(left, right, bottom, top), aspect='auto')\n",
    "\n",
    "    def find_closest_video_with_prediction(val):\n",
    "        \"\"\"Find a video with prediction closest to val.\"\"\"\n",
    "        dists = np.abs(predictions - val)\n",
    "        idx = np.argmin(dists)\n",
    "        return idx\n",
    "\n",
    "    vals = np.linspace(min(predictions), max(predictions), num_videos_to_show)\n",
    "    random_idxes = [find_closest_video_with_prediction(v) for v in vals]\n",
    "\n",
    "    #random_idxes = np.random.choice(range(len(videos)), 10, replace=False)\n",
    "    for i, idx in enumerate(random_idxes[::-1]):\n",
    "        show_image_idx(idx)\n",
    "        text_top = f_top - width / 2\n",
    "        text_bot = bottom + width * 1.5\n",
    "        text_delta = text_top - text_bot\n",
    "        y = text_bot + i * text_delta / num_videos_to_show\n",
    "        # print(text_top, text_bot, text_delta, y)\n",
    "        plt.text(predictions[idx], y, videos[idx].name[:50])\n",
    "        plt.plot([predictions[idx]] * 2, [bottom + width, y], '--', color='gray', alpha=0.5)\n",
    "\n",
    "    plt.ylim((-width / 5, f_top))\n",
    "    plt.xlim((min(predictions) - width / 2, max(predictions) + width * 3))\n",
    "    frame1 = plt.gca()\n",
    "    frame1.axes.yaxis.set_ticklabels([])\n",
    "    frame1.axes.xaxis.set_ticklabels([])\n",
    "    #fig.axes.get_yaxis().set_visible(False)\n",
    "    \n",
    "    ax2 = ax.twinx()\n",
    "    r_hist = sns.distplot(predictions, ax=ax2,\n",
    "                 hist_kws={\"alpha\": 0.2},\n",
    "                 kde_kws={\"alpha\": 0.2},\n",
    "                 label='Video density')\n",
    "    \n",
    "    handles, labels = [], []\n",
    "    h, l = ax.get_legend_handles_labels()\n",
    "    handles += h\n",
    "    labels += l\n",
    "    h, l = ax2.get_legend_handles_labels()\n",
    "    handles += h\n",
    "    labels += l\n",
    "    plt.legend(handles, labels)\n",
    "    \n",
    "    plt.show()"
   ]
  },
  {
   "cell_type": "code",
   "execution_count": null,
   "metadata": {},
   "outputs": [],
   "source": [
    "def plot_predictions(videos, predictor):\n",
    "    \"\"\"Plot characteristics predictions.\"\"\"\n",
    "    \n",
    "    videos, embeddings = get_videos_and_embeddings(videos)\n",
    "    all_predictions = predictor(embeddings)\n",
    "    \n",
    "    for field in VIDEO_FIELDS:\n",
    "        plot_characteristic(field=field,\n",
    "                            all_predictions=all_predictions,\n",
    "                            videos=videos)"
   ]
  },
  {
   "cell_type": "code",
   "execution_count": null,
   "metadata": {},
   "outputs": [],
   "source": [
    "plot_predictions(videos, predictor)"
   ]
  },
  {
   "cell_type": "markdown",
   "metadata": {},
   "source": [
    "# Ratings for a particular user"
   ]
  },
  {
   "cell_type": "code",
   "execution_count": null,
   "metadata": {},
   "outputs": [],
   "source": [
    "user_to_nratings = [{'username': u.user.username, 'ratings': len(ExpertRating.objects.filter(user=u))} for u in users]\n",
    "df = pd.DataFrame(user_to_nratings)\n",
    "df = df.sort_values('ratings', ascending=False)\n",
    "df = df[df.ratings > 0]\n",
    "print(df)\n",
    "sns.barplot(x='username',y='ratings', data=df, palette='Spectral')\n",
    "plt.show()"
   ]
  },
  {
   "cell_type": "code",
   "execution_count": null,
   "metadata": {},
   "outputs": [],
   "source": [
    "def username_to_model(username='sergei'):\n",
    "    \"\"\"Get a model from a username.\"\"\"\n",
    "    user = DjangoUser.objects.get(username=username)\n",
    "    user = UserPreferences.objects.get(user=user)\n",
    "    model = learner.user_to_model[user.id]\n",
    "    return model"
   ]
  },
  {
   "cell_type": "code",
   "execution_count": null,
   "metadata": {},
   "outputs": [],
   "source": [
    "plot_predictions(videos, username_to_model(username='srlt'))"
   ]
  },
  {
   "cell_type": "code",
   "execution_count": null,
   "metadata": {},
   "outputs": [],
   "source": []
  }
 ],
 "metadata": {
  "kernelspec": {
   "display_name": "Django Shell-Plus",
   "language": "python",
   "name": "django_extensions"
  },
  "language_info": {
   "codemirror_mode": {
    "name": "ipython",
    "version": 3
   },
   "file_extension": ".py",
   "mimetype": "text/x-python",
   "name": "python",
   "nbconvert_exporter": "python",
   "pygments_lexer": "ipython3",
   "version": "3.7.6"
  }
 },
 "nbformat": 4,
 "nbformat_minor": 4
}
