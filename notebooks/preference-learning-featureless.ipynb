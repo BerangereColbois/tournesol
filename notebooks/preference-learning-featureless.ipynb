{
 "cells": [
  {
   "cell_type": "code",
   "execution_count": null,
   "metadata": {},
   "outputs": [],
   "source": [
    "import tensorflow as tf\n",
    "import numpy as np\n",
    "%matplotlib inline\n",
    "from matplotlib import pyplot as plt\n",
    "\n",
    "from backend.preference_aggregation_featureless import FeaturelessPreferenceLearningModel\n",
    "from backend.preference_aggregation_featureless import FeaturelessMedianPreferenceAverageRegularizationAggregator\n",
    "\n",
    "from backend.toy_preference_dataset import ToyHardcodedDataset, ToyRandomDataset\n",
    "\n",
    "from tqdm import tqdm"
   ]
  },
  {
   "cell_type": "code",
   "execution_count": null,
   "metadata": {},
   "outputs": [],
   "source": [
    "dataset = ToyHardcodedDataset()\n",
    "dataset._generate_many(100)"
   ]
  },
  {
   "cell_type": "code",
   "execution_count": null,
   "metadata": {},
   "outputs": [],
   "source": [
    "models = [FeaturelessPreferenceLearningModel(objects=dataset.objects,\n",
    "                                   output_dim=len(dataset.fields),\n",
    "                                   name=user) for user in dataset.users]"
   ]
  },
  {
   "cell_type": "code",
   "execution_count": null,
   "metadata": {},
   "outputs": [],
   "source": [
    "aggregator = FeaturelessMedianPreferenceAverageRegularizationAggregator(models=models)"
   ]
  },
  {
   "cell_type": "code",
   "execution_count": null,
   "metadata": {},
   "outputs": [],
   "source": [
    "aggregator.save('.')"
   ]
  },
  {
   "cell_type": "code",
   "execution_count": null,
   "metadata": {},
   "outputs": [],
   "source": [
    "aggregator.load('.')"
   ]
  },
  {
   "cell_type": "code",
   "execution_count": null,
   "metadata": {},
   "outputs": [],
   "source": [
    "for r in dataset.ratings:\n",
    "    u_idx = dataset.users.index(r['user'])\n",
    "    ratings_as_vector = np.array([r['ratings'][k] for k in dataset.fields]) / 100.\n",
    "    models[u_idx].register_preference(o1=r['o1'], o2=r['o2'], p1_vs_p2=ratings_as_vector)"
   ]
  },
  {
   "cell_type": "code",
   "execution_count": null,
   "metadata": {},
   "outputs": [],
   "source": [
    "aggregator.fit(epochs=10000)"
   ]
  },
  {
   "cell_type": "code",
   "execution_count": null,
   "metadata": {},
   "outputs": [],
   "source": [
    "aggregator.models[0]('trump_video')"
   ]
  },
  {
   "cell_type": "code",
   "execution_count": null,
   "metadata": {},
   "outputs": [],
   "source": [
    "aggregator.common_model.scores"
   ]
  },
  {
   "cell_type": "code",
   "execution_count": null,
   "metadata": {},
   "outputs": [],
   "source": [
    "aggregator('trump_video')"
   ]
  },
  {
   "cell_type": "code",
   "execution_count": null,
   "metadata": {},
   "outputs": [],
   "source": [
    "def test_hardcoded_dataset(dataset, aggregator):\n",
    "    \"\"\"Test that results are valid on a hardcoded dataset.\"\"\"\n",
    "    for user_id, user in enumerate(dataset.users):\n",
    "        got_scores = aggregator.models[user_id].scores\n",
    "        expect_scores = dataset.scores_dict[user]\n",
    "        errors = 0\n",
    "        for i, feature in enumerate(dataset.fields):\n",
    "            for o1 in dataset.objects:\n",
    "                for o2 in dataset.objects:\n",
    "                    if o1 == o2: continue\n",
    "                    delta1 = got_scores[o2][i] - got_scores[o1][i]\n",
    "                    if (o1, o2) in expect_scores[feature]:\n",
    "                        delta2 = expect_scores[feature][(o1, o2)]\n",
    "                    else:\n",
    "                        delta2 = 100 - expect_scores[feature][(o2, o1)]\n",
    "                    delta2 = (delta2 - 50) / 50.\n",
    "                    if delta1 * delta2 <= 0:\n",
    "                        print(\"Invalid result: %s %s %s %s\" % (user, feature, o1, o2))\n",
    "                        errors += 1\n",
    "        assert not errors, \"There were %s errors\" % errors"
   ]
  },
  {
   "cell_type": "code",
   "execution_count": null,
   "metadata": {},
   "outputs": [],
   "source": [
    "test_hardcoded_dataset(dataset, aggregator)"
   ]
  },
  {
   "cell_type": "code",
   "execution_count": null,
   "metadata": {},
   "outputs": [],
   "source": [
    "aggregator.plot_loss()"
   ]
  },
  {
   "cell_type": "code",
   "execution_count": null,
   "metadata": {},
   "outputs": [],
   "source": [
    "dataset = ToyRandomDataset()\n",
    "dataset._generate_many(100)"
   ]
  },
  {
   "cell_type": "code",
   "execution_count": null,
   "metadata": {},
   "outputs": [],
   "source": []
  },
  {
   "cell_type": "code",
   "execution_count": null,
   "metadata": {},
   "outputs": [],
   "source": [
    "aggregator1(dataset.objects[0])"
   ]
  },
  {
   "cell_type": "code",
   "execution_count": null,
   "metadata": {},
   "outputs": [],
   "source": []
  },
  {
   "cell_type": "code",
   "execution_count": null,
   "metadata": {},
   "outputs": [],
   "source": []
  },
  {
   "cell_type": "code",
   "execution_count": null,
   "metadata": {},
   "outputs": [],
   "source": []
  },
  {
   "cell_type": "code",
   "execution_count": null,
   "metadata": {},
   "outputs": [],
   "source": []
  },
  {
   "cell_type": "code",
   "execution_count": null,
   "metadata": {},
   "outputs": [],
   "source": []
  }
 ],
 "metadata": {
  "kernelspec": {
   "display_name": "Python 3",
   "language": "python",
   "name": "python3"
  },
  "language_info": {
   "codemirror_mode": {
    "name": "ipython",
    "version": 3
   },
   "file_extension": ".py",
   "mimetype": "text/x-python",
   "name": "python",
   "nbconvert_exporter": "python",
   "pygments_lexer": "ipython3",
   "version": "3.7.4"
  }
 },
 "nbformat": 4,
 "nbformat_minor": 4
}
