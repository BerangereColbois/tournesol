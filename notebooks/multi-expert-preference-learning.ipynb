{
 "cells": [
  {
   "cell_type": "code",
   "execution_count": null,
   "metadata": {},
   "outputs": [],
   "source": [
    "import os\n",
    "\n",
    "os.environ[\"CUDA_VISIBLE_DEVICES\"] = \"1\"\n",
    "os.environ[\"TF_FORCE_GPU_ALLOW_GROWTH\"] = \"true\""
   ]
  },
  {
   "cell_type": "code",
   "execution_count": null,
   "metadata": {},
   "outputs": [],
   "source": [
    "import numpy as np\n",
    "import tensorflow as tf\n",
    "from IPython.display import clear_output\n",
    "from matplotlib import pyplot as plt\n",
    "\n",
    "from preference_aggregation import *\n",
    "\n",
    "from tqdm.notebook import tqdm\n",
    "from copy import deepcopy\n",
    "\n",
    "%matplotlib inline"
   ]
  },
  {
   "cell_type": "code",
   "execution_count": null,
   "metadata": {},
   "outputs": [],
   "source": [
    "# generating 2d data\n",
    "data = np.array(np.random.randn(100, 2), dtype=np.float32)"
   ]
  },
  {
   "cell_type": "code",
   "execution_count": null,
   "metadata": {},
   "outputs": [],
   "source": [
    "# showing the data\n",
    "plt.title(\"Data\")\n",
    "plt.xlabel('Component 1')\n",
    "plt.ylabel('Component 2')\n",
    "plt.scatter(data[:, 0], data[:, 1])\n",
    "plt.show()"
   ]
  },
  {
   "cell_type": "code",
   "execution_count": null,
   "metadata": {},
   "outputs": [],
   "source": [
    "# expert configuration\n",
    "n_experts = 2\n",
    "models = [PreferenceLearningModel() for _ in range(n_experts)]"
   ]
  },
  {
   "cell_type": "code",
   "execution_count": null,
   "metadata": {},
   "outputs": [],
   "source": [
    "def preference_fcn_1(idx_1, idx_2):\n",
    "    \"\"\"Preference for expert 1.\"\"\"\n",
    "    data_1 = data[idx_1, :]\n",
    "    data_2 = data[idx_2, :]\n",
    "    return np.array([data_1[0] > data_2[0]])\n",
    "\n",
    "\n",
    "def preference_fcn_2(idx_1, idx_2):\n",
    "    \"\"\"Preference for expert 2.\"\"\"\n",
    "    data_1 = data[idx_1, :]\n",
    "    data_2 = data[idx_2, :]\n",
    "    return np.array([data_1[1] > data_2[1]])\n",
    "\n",
    "\n",
    "preference_fcns = [preference_fcn_1, preference_fcn_2]"
   ]
  },
  {
   "cell_type": "code",
   "execution_count": null,
   "metadata": {},
   "outputs": [],
   "source": [
    "# fitting two models with respective preferences\n",
    "for i in range(n_experts):\n",
    "    for _ in tqdm(range(100)):\n",
    "        models[i].iteration(data=data, override_input_fcn=preference_fcns[i], do_plot=False, do_fit=True)"
   ]
  },
  {
   "cell_type": "code",
   "execution_count": null,
   "metadata": {},
   "outputs": [],
   "source": [
    "for i in range(n_experts):\n",
    "    models[i].plot_loss_and_decisions(data)"
   ]
  },
  {
   "cell_type": "code",
   "execution_count": null,
   "metadata": {},
   "outputs": [],
   "source": [
    "# aggregating data from two experts\n",
    "aggregator = MedianPreferenceAggregator(models)\n",
    "aggregator.plot_with_colors(data)"
   ]
  },
  {
   "cell_type": "markdown",
   "metadata": {},
   "source": [
    "Kind of does what we want. Nevertheless, trying the better model with regularization"
   ]
  },
  {
   "cell_type": "markdown",
   "metadata": {},
   "source": [
    "# Aggregated preference model with regularization"
   ]
  },
  {
   "cell_type": "code",
   "execution_count": null,
   "metadata": {},
   "outputs": [],
   "source": [
    "# creating data\n",
    "models = [PreferenceLearningModel(name='preference_%d' % i) for i in range(n_experts)]\n",
    "\n",
    "# aggregating them\n",
    "aggregator = MedianPreferenceAverageRegularizationAggregator(models)"
   ]
  },
  {
   "cell_type": "code",
   "execution_count": null,
   "metadata": {},
   "outputs": [],
   "source": [
    "# populating models with data\n",
    "for i in range(n_experts):\n",
    "    for _ in tqdm(range(100)):\n",
    "        models[i].iteration(override_input_fcn=preference_fcns[i],\n",
    "                            data=data, do_plot=False, do_fit=False)"
   ]
  },
  {
   "cell_type": "code",
   "execution_count": null,
   "metadata": {},
   "outputs": [],
   "source": [
    "# fitting the models\n",
    "aggregator.fit(epochs=5000, reg_common_to_0=1e-5, reg_m_to_common=1e-5)"
   ]
  },
  {
   "cell_type": "code",
   "execution_count": null,
   "metadata": {},
   "outputs": [],
   "source": [
    "# saving data\n",
    "aggregator.save('.')\n",
    "losses = deepcopy(aggregator.losses)"
   ]
  },
  {
   "cell_type": "code",
   "execution_count": null,
   "metadata": {},
   "outputs": [],
   "source": [
    "# showing the results\n",
    "aggregator.plot_loss_and_decisions(data)"
   ]
  },
  {
   "cell_type": "code",
   "execution_count": null,
   "metadata": {},
   "outputs": [],
   "source": [
    "# creating data\n",
    "models = [PreferenceLearningModel(name='preference_%d' % i) for i in range(n_experts)]\n",
    "\n",
    "# aggregating them\n",
    "aggregator = MedianPreferenceAverageRegularizationAggregator(models)\n",
    "aggregator.losses = losses\n",
    "aggregator.load('.')\n",
    "aggregator.plot_loss_and_decisions(data)"
   ]
  },
  {
   "cell_type": "markdown",
   "metadata": {},
   "source": [
    "#### Again, the result is correct (upper right corner)!"
   ]
  }
 ],
 "metadata": {
  "kernelspec": {
   "display_name": "Python 3",
   "language": "python",
   "name": "python3"
  },
  "language_info": {
   "codemirror_mode": {
    "name": "ipython",
    "version": 3
   },
   "file_extension": ".py",
   "mimetype": "text/x-python",
   "name": "python",
   "nbconvert_exporter": "python",
   "pygments_lexer": "ipython3",
   "version": "3.7.4"
  }
 },
 "nbformat": 4,
 "nbformat_minor": 4
}
