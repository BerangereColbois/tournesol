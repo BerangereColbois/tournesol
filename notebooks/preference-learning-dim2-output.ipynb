{
 "cells": [
  {
   "cell_type": "code",
   "execution_count": null,
   "metadata": {},
   "outputs": [],
   "source": [
    "import tensorflow as tf\n",
    "import numpy as np\n",
    "%matplotlib inline\n",
    "from matplotlib import pyplot as plt\n",
    "from tqdm.notebook import tqdm\n",
    "from preference_aggregation import PreferenceLearningModel"
   ]
  },
  {
   "cell_type": "code",
   "execution_count": null,
   "metadata": {},
   "outputs": [],
   "source": [
    "# generating 2d data\n",
    "data = np.array(np.random.randn(100, 2), dtype=np.float32)"
   ]
  },
  {
   "cell_type": "code",
   "execution_count": null,
   "metadata": {},
   "outputs": [],
   "source": [
    "def preference_fcn_1(idx_1, idx_2):\n",
    "    \"\"\"Preference for expert 1.\"\"\"\n",
    "    data_1 = data[idx_1, :]\n",
    "    data_2 = data[idx_2, :]\n",
    "    return np.array([data_1[0] > data_2[0]])\n",
    "\n",
    "\n",
    "def preference_fcn_2(idx_1, idx_2):\n",
    "    \"\"\"Preference for expert 2.\"\"\"\n",
    "    data_1 = data[idx_1, :]\n",
    "    data_2 = data[idx_2, :]\n",
    "    return np.array([data_1[1] > data_2[1]])\n",
    "\n",
    "\n",
    "preference_fcns = [preference_fcn_1, preference_fcn_2]"
   ]
  },
  {
   "cell_type": "code",
   "execution_count": null,
   "metadata": {},
   "outputs": [],
   "source": [
    "# creating the model\n",
    "model = PreferenceLearningModel(input_dim=2, output_dim=2, name='preference_model_dim2x2')"
   ]
  },
  {
   "cell_type": "code",
   "execution_count": null,
   "metadata": {},
   "outputs": [],
   "source": [
    "# loading preferences...\n",
    "for _ in tqdm(range(100)):\n",
    "    idx_1 = np.random.choice(range(data.shape[0]))\n",
    "    idx_2 = np.random.choice(range(data.shape[0]))\n",
    "    \n",
    "    vals = [f(idx_1, idx_2)[0] for f in preference_fcns]\n",
    "    vals = np.array(vals)\n",
    "    \n",
    "    model.register_preference(data[idx_1, :], data[idx_2, :], vals)"
   ]
  },
  {
   "cell_type": "code",
   "execution_count": null,
   "metadata": {},
   "outputs": [],
   "source": [
    "for _ in tqdm(range(5000)):\n",
    "    model.fit(epochs=1)"
   ]
  },
  {
   "cell_type": "code",
   "execution_count": null,
   "metadata": {},
   "outputs": [],
   "source": [
    "# plotting results for preference fcn 1\n",
    "model.plot_loss_and_decisions(data)"
   ]
  },
  {
   "cell_type": "code",
   "execution_count": null,
   "metadata": {},
   "outputs": [],
   "source": [
    "# saving weights\n",
    "model.save(directory='.models')"
   ]
  },
  {
   "cell_type": "code",
   "execution_count": null,
   "metadata": {},
   "outputs": [],
   "source": [
    "# create untrained model\n",
    "model_new = PreferenceLearningModel(input_dim=2, output_dim=2, name='preference_model_dim2x2')"
   ]
  },
  {
   "cell_type": "code",
   "execution_count": null,
   "metadata": {},
   "outputs": [],
   "source": [
    "# loading weights\n",
    "model_new.load(directory='.models')"
   ]
  },
  {
   "cell_type": "code",
   "execution_count": null,
   "metadata": {},
   "outputs": [],
   "source": [
    "# plotting results for preference fcn 2\n",
    "model_new.plot_loss_and_decisions(data)"
   ]
  },
  {
   "cell_type": "code",
   "execution_count": null,
   "metadata": {},
   "outputs": [],
   "source": []
  }
 ],
 "metadata": {
  "kernelspec": {
   "display_name": "Python 3",
   "language": "python",
   "name": "python3"
  },
  "language_info": {
   "codemirror_mode": {
    "name": "ipython",
    "version": 3
   },
   "file_extension": ".py",
   "mimetype": "text/x-python",
   "name": "python",
   "nbconvert_exporter": "python",
   "pygments_lexer": "ipython3",
   "version": "3.7.4"
  }
 },
 "nbformat": 4,
 "nbformat_minor": 4
}
