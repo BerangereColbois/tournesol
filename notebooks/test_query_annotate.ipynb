{
 "cells": [
  {
   "cell_type": "code",
   "execution_count": null,
   "metadata": {},
   "outputs": [],
   "source": [
    "# for adding the videos to DB\n",
    "# don't use at the same time with the server running\n",
    "# https://stackoverflow.com/questions/59119396/how-to-use-django-3-0-orm-in-a-jupyter-notebook-without-triggering-the-async-con\n",
    "import os\n",
    "os.environ[\"DJANGO_ALLOW_ASYNC_UNSAFE\"] = \"true\"\n",
    "\n",
    "from backend.models import Video, ExpertRating, UserPreferences\n",
    "from django.db.models import F, FloatField, Sum\n",
    "from django_pandas.io import read_frame\n",
    "from backend.rating_fields import VIDEO_FIELDS\n",
    "from backend.video_search import VideoSearchEngine"
   ]
  },
  {
   "cell_type": "code",
   "execution_count": null,
   "metadata": {},
   "outputs": [],
   "source": [
    "upv = UserPreferences.objects.get(user=1).features_as_vector_centered"
   ]
  },
  {
   "cell_type": "code",
   "execution_count": null,
   "metadata": {},
   "outputs": [],
   "source": [
    "def get_score_annotation(user_preferences_vector):\n",
    "    \"\"\"Returns an sql object annotating queries with the video ratings (sclar product).\"\"\"\n",
    "    return sum([F(f) * v for f, v in zip(VIDEO_FIELDS, user_preferences_vector)])\n",
    "    \n",
    "video_new = Video.objects.all().annotate(score_=get_score_annotation(upv))"
   ]
  },
  {
   "cell_type": "code",
   "execution_count": null,
   "metadata": {},
   "outputs": [],
   "source": [
    "VideoSearchEngine.set_parameters(None, UserPreferences.objects.get(user=1))"
   ]
  },
  {
   "cell_type": "code",
   "execution_count": null,
   "metadata": {},
   "outputs": [],
   "source": [
    "video_new[10].score, video_new[10].score_"
   ]
  },
  {
   "cell_type": "code",
   "execution_count": null,
   "metadata": {},
   "outputs": [],
   "source": [
    "read_frame(video_new)"
   ]
  },
  {
   "cell_type": "code",
   "execution_count": null,
   "metadata": {},
   "outputs": [],
   "source": []
  }
 ],
 "metadata": {
  "kernelspec": {
   "display_name": "Django Shell-Plus",
   "language": "python",
   "name": "django_extensions"
  },
  "language_info": {
   "codemirror_mode": {
    "name": "ipython",
    "version": 3
   },
   "file_extension": ".py",
   "mimetype": "text/x-python",
   "name": "python",
   "nbconvert_exporter": "python",
   "pygments_lexer": "ipython3",
   "version": "3.7.9"
  }
 },
 "nbformat": 4,
 "nbformat_minor": 4
}
