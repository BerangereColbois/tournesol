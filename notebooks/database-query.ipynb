{
 "cells": [
  {
   "cell_type": "code",
   "execution_count": null,
   "metadata": {},
   "outputs": [],
   "source": [
    "import os\n",
    "\n",
    "# for adding the videos to DB\n",
    "# don't use at the same time with the server running\n",
    "# https://stackoverflow.com/questions/59119396/how-to-use-django-3-0-orm-in-a-jupyter-notebook-without-triggering-the-async-con\n",
    "os.environ[\"DJANGO_ALLOW_ASYNC_UNSAFE\"] = \"true\"\n",
    "\n",
    "from backend.models import Video, UserPreferences\n",
    "from backend.rating_fields import VIDEO_FIELDS\n",
    "import numpy as np\n",
    "\n",
    "from ipywidgets import interact, interactive, fixed, interact_manual\n",
    "import ipywidgets as widgets\n",
    "from IPython.display import HTML, IFrame, display\n",
    "from IPython.display import YouTubeVideo"
   ]
  },
  {
   "cell_type": "markdown",
   "metadata": {},
   "source": [
    "To use, enable interactive widgets: https://towardsdatascience.com/interactive-controls-for-jupyter-notebooks-f5c94829aee6"
   ]
  },
  {
   "cell_type": "markdown",
   "metadata": {},
   "source": [
    "## Please select your preferences"
   ]
  },
  {
   "cell_type": "code",
   "execution_count": null,
   "metadata": {},
   "outputs": [],
   "source": [
    "preferences = {f: widgets.IntSlider(min=-50, max=50, step=1, value=0) for f in VIDEO_FIELDS}\n",
    "\n",
    "def g(**kwargs):\n",
    "    global preferences\n",
    "    for k, v in kwargs.items():\n",
    "        if k in preferences:\n",
    "            preferences[k] = v\n",
    "\n",
    "interact(g, **preferences);"
   ]
  },
  {
   "cell_type": "markdown",
   "metadata": {},
   "source": [
    "## Please select your experts"
   ]
  },
  {
   "cell_type": "code",
   "execution_count": null,
   "metadata": {},
   "outputs": [],
   "source": [
    "# Selecting experts\n",
    "\n",
    "usernames = sorted([user.username for user in UserPreferences.objects.all()])\n",
    "\n",
    "selected = {u: False for u in usernames}\n",
    "selected['lenhoang'] = True\n",
    "\n",
    "def f(**kwargs):\n",
    "    global selected\n",
    "    for k, v in kwargs.items():\n",
    "        if k in selected:\n",
    "            selected[k] = v\n",
    "\n",
    "interact(f, **selected);"
   ]
  },
  {
   "cell_type": "markdown",
   "metadata": {},
   "source": [
    "## Select your filters"
   ]
  },
  {
   "cell_type": "code",
   "execution_count": null,
   "metadata": {},
   "outputs": [],
   "source": [
    "videos = Video.objects.all()\n",
    "videos = [x for x in videos if x.language == 'en']"
   ]
  },
  {
   "cell_type": "markdown",
   "metadata": {},
   "source": [
    "## Showing sorted videos"
   ]
  },
  {
   "cell_type": "code",
   "execution_count": null,
   "metadata": {},
   "outputs": [],
   "source": [
    "def aggregate_ratings(ratings):\n",
    "    \"\"\"Aggregate ratings in a list.\"\"\"\n",
    "    by_feature = {f: [getattr(r, f) for r in ratings] for f in VIDEO_FIELDS}\n",
    "    return {f: np.median(r) if r else np.nan for f, r in by_feature.items()}\n",
    "\n",
    "def get_score(ratings, preferences):\n",
    "    \"\"\"Get score for a video based on preferences and ratings.\"\"\"\n",
    "    aggregated = aggregate_ratings(ratings)\n",
    "    score = np.sum([aggregated[f] * preferences[f] for f in VIDEO_FIELDS])\n",
    "    return score\n",
    "\n",
    "def get_score_for_video(video, selected, preferences):\n",
    "    \"\"\"Get score for a video based on selected experts and preferences.\"\"\"\n",
    "    ratings = [x for x in VideoRating.objects.filter(video=video) if selected[x.user.username]]\n",
    "    score = get_score(ratings, preferences)\n",
    "    return score"
   ]
  },
  {
   "cell_type": "code",
   "execution_count": null,
   "metadata": {},
   "outputs": [],
   "source": [
    "# sorting videos\n",
    "scores = {v: get_score_for_video(v, selected, preferences) for v in videos}\n",
    "videos_sorted = [x for x in videos if not np.isnan(scores[x])]\n",
    "videos_sorted = sorted(videos_sorted, key=lambda x: -scores[x])\n",
    "\n",
    "for v in videos_sorted[:5]:\n",
    "    print(f\"{v.uploader}: {v.name}\")\n",
    "    print(f\"Score {round(scores[v], 2)}\")\n",
    "    print(f\"Duration {v.duration} / Language {v.language} / Date {v.publication_date} / Views {v.views}\")\n",
    "    \n",
    "    display(YouTubeVideo(v.video_id))\n",
    "\n",
    "    print(\"\")"
   ]
  },
  {
   "cell_type": "code",
   "execution_count": null,
   "metadata": {},
   "outputs": [],
   "source": []
  }
 ],
 "metadata": {
  "kernelspec": {
   "display_name": "Django Shell-Plus",
   "language": "python",
   "name": "django_extensions"
  },
  "language_info": {
   "codemirror_mode": {
    "name": "ipython",
    "version": 3
   },
   "file_extension": ".py",
   "mimetype": "text/x-python",
   "name": "python",
   "nbconvert_exporter": "python",
   "pygments_lexer": "ipython3",
   "version": "3.7.4"
  }
 },
 "nbformat": 4,
 "nbformat_minor": 4
}
