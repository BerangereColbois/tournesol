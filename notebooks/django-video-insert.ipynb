{
 "cells": [
  {
   "cell_type": "code",
   "execution_count": null,
   "metadata": {},
   "outputs": [],
   "source": [
    "# don't use at the same time with the server running\n",
    "# https://stackoverflow.com/questions/59119396/how-to-use-django-3-0-orm-in-a-jupyter-notebook-without-triggering-the-async-con\n",
    "import os\n",
    "os.environ[\"DJANGO_ALLOW_ASYNC_UNSAFE\"] = \"true\"\n",
    "\n",
    "# importing the model...\n",
    "from backend.models import Video"
   ]
  },
  {
   "cell_type": "code",
   "execution_count": null,
   "metadata": {},
   "outputs": [],
   "source": [
    "# obtaining all videos\n",
    "def print_all_videos():\n",
    "    \"\"\"Print all videos with the description.\"\"\"\n",
    "    V = Video.objects.all()\n",
    "    print([(v.video_id, v.description) for v in V])\n",
    "    \n",
    "print_all_videos()\n",
    "# video_id=\"sdf\" is not there"
   ]
  },
  {
   "cell_type": "code",
   "execution_count": null,
   "metadata": {},
   "outputs": [],
   "source": [
    "# creating a video\n",
    "Video.objects.create(video_id=\"sdf\")\n",
    "print_all_videos()\n",
    "# got the video in the list, but no description"
   ]
  },
  {
   "cell_type": "code",
   "execution_count": null,
   "metadata": {},
   "outputs": [],
   "source": [
    "# editing a video\n",
    "v = Video.objects.get(video_id=\"sdf\")\n",
    "v.description=\"sdfsdf\"\n",
    "v.save()\n",
    "print_all_videos()\n",
    "# added the description"
   ]
  },
  {
   "cell_type": "code",
   "execution_count": null,
   "metadata": {},
   "outputs": [],
   "source": [
    "# deleting a video\n",
    "v.delete()\n",
    "print_all_videos()\n",
    "# video is gone again"
   ]
  },
  {
   "cell_type": "code",
   "execution_count": null,
   "metadata": {},
   "outputs": [],
   "source": []
  }
 ],
 "metadata": {
  "kernelspec": {
   "display_name": "Django Shell-Plus",
   "language": "python",
   "name": "django_extensions"
  },
  "language_info": {
   "codemirror_mode": {
    "name": "ipython",
    "version": 3
   },
   "file_extension": ".py",
   "mimetype": "text/x-python",
   "name": "python",
   "nbconvert_exporter": "python",
   "pygments_lexer": "ipython3",
   "version": "3.7.6"
  }
 },
 "nbformat": 4,
 "nbformat_minor": 4
}
