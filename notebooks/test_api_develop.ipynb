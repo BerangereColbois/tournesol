{
 "cells": [
  {
   "cell_type": "code",
   "execution_count": null,
   "metadata": {
    "pycharm": {
     "is_executing": false
    }
   },
   "outputs": [],
   "source": [
    "import logging\n",
    "logging.basicConfig(level=logging.DEBUG)\n",
    "\n",
    "\n",
    "import os\n",
    "import numpy as np\n",
    "os.environ[\"DJANGO_ALLOW_ASYNC_UNSAFE\"] = \"true\"\n",
    "from backend.models import Video, UserPreferences\n",
    "import itertools\n",
    "from tqdm import tqdm\n",
    "from backend.rating_fields import VIDEO_FIELDS\n",
    "from django.contrib.auth.models import User as DjangoUser\n",
    "import datetime\n",
    "import numpy as np"
   ]
  },
  {
   "cell_type": "code",
   "execution_count": null,
   "metadata": {
    "pycharm": {
     "is_executing": false,
     "name": "#%%\n"
    }
   },
   "outputs": [],
   "source": [
    "from rest_framework.test import APIClient\n",
    "client = APIClient()\n",
    "\n",
    "TEST_USERNAME = 'selenium'\n",
    "TEST_PASSWORD = 'Boo2evukaich7si'\n",
    "\n",
    "client.login(username=TEST_USERNAME, password=TEST_PASSWORD)"
   ]
  },
  {
   "cell_type": "code",
   "execution_count": null,
   "metadata": {
    "pycharm": {
     "is_executing": false,
     "name": "#%%\n"
    }
   },
   "outputs": [],
   "source": [
    "current_user = DjangoUser.objects.get(username=TEST_USERNAME)\n",
    "current_user_preferences = UserPreferences.objects.get(user=current_user)"
   ]
  },
  {
   "cell_type": "code",
   "execution_count": null,
   "metadata": {},
   "outputs": [],
   "source": [
    "r = client.get(\"/api_explorer/preferences/-1/\", follow=True)\n",
    "assert r.status_code == 200\n",
    "r = r.json()"
   ]
  },
  {
   "cell_type": "code",
   "execution_count": null,
   "metadata": {},
   "outputs": [],
   "source": [
    "?client.post"
   ]
  },
  {
   "cell_type": "code",
   "execution_count": null,
   "metadata": {
    "pycharm": {
     "is_executing": false,
     "name": "#%%\n"
    }
   },
   "outputs": [],
   "source": [
    "def json_matches_preferences(prefs, s):\n",
    "    \"\"\"Check that user preferences match a json string from API.\"\"\"\n",
    "    for f in VIDEO_FIELDS:\n",
    "        assert np.allclose(getattr(prefs, f), s[f])\n",
    "    assert prefs.username == s['username']"
   ]
  },
  {
   "cell_type": "code",
   "execution_count": null,
   "metadata": {},
   "outputs": [],
   "source": [
    "def with_redirect(method):\n",
    "    \"\"\"Follow redirects properly for patch.\"\"\"\n",
    "    def inner(*args, **kwargs):\n",
    "        \"\"\"Assuming first arg is the url.\"\"\"\n",
    "        args = list(args)\n",
    "        ok = False\n",
    "        while not ok:\n",
    "            result = method(*args, **kwargs)\n",
    "            if result.status_code != 302:\n",
    "                return result\n",
    "            else: args[0] = result.url\n",
    "        \n",
    "    return inner"
   ]
  },
  {
   "cell_type": "code",
   "execution_count": null,
   "metadata": {
    "pycharm": {
     "is_executing": false,
     "name": "#%%\n"
    }
   },
   "outputs": [],
   "source": [
    "json_matches_preferences(current_user_preferences, r)"
   ]
  },
  {
   "cell_type": "code",
   "execution_count": null,
   "metadata": {},
   "outputs": [],
   "source": [
    "with_redirect(client.patch)(\"/api_explorer/preferences/-1/\", data={'backfire_risk': 516, 'id': 1, 'username': \"123123\"})"
   ]
  },
  {
   "cell_type": "code",
   "execution_count": null,
   "metadata": {},
   "outputs": [],
   "source": [
    "?client.patch"
   ]
  },
  {
   "cell_type": "code",
   "execution_count": null,
   "metadata": {},
   "outputs": [],
   "source": [
    "print(r.json())"
   ]
  },
  {
   "cell_type": "code",
   "execution_count": null,
   "metadata": {},
   "outputs": [],
   "source": [
    "current_user_preferences = UserPreferences.objects.get(user=current_user)\n",
    "current_user_preferences.backfire_risk, current_user_preferences.username"
   ]
  },
  {
   "cell_type": "code",
   "execution_count": null,
   "metadata": {},
   "outputs": [],
   "source": [
    "?client.patch"
   ]
  },
  {
   "cell_type": "code",
   "execution_count": null,
   "metadata": {},
   "outputs": [],
   "source": []
  },
  {
   "cell_type": "code",
   "execution_count": null,
   "metadata": {
    "pycharm": {
     "name": "#%%\n"
    }
   },
   "outputs": [],
   "source": [
    "    video_ids = list(np.random.choice([x.video_id for x in Video.objects.all()],\n",
    "                                      size=1))\n",
    "    query_params_opts = {'searchYTRaw': [None],\n",
    "                         'searchString': ['test', None],\n",
    "                         'lang': ['any', 'en', None],\n",
    "                         'minDuration': [10, None],\n",
    "                         'maxDuration': [60, None],\n",
    "                         'minViews': [10, None],\n",
    "                         'maxViews': [100, None],\n",
    "                         'date': ['month', 'year', None],\n",
    "                         'n': [10, 50, None],\n",
    "                         'video_id': [None] + video_ids,\n",
    "                        }\n",
    "    \n",
    "    print(\"Total combinations\", np.prod([len(arr) for arr in query_params_opts.values()]))\n",
    "    for query_param in tqdm(filter_none_keys(product_dict(**query_params_opts))):\n",
    "            r = client.get('/api_explorer/videos/', data=query_param,\n",
    "                           format='json')\n",
    "            assert r.status_code == 200\n",
    "            videos = r.json()\n",
    "            assert isinstance(videos, list)\n",
    "            if not query_param:\n",
    "                assert videos\n",
    "            \n",
    "            if videos:\n",
    "                assert isinstance(videos[0], dict)\n",
    "                print(videos[0].keys())\n",
    "                required_keys = (['video_id', 'score', 'name', 'duration',\n",
    "                                  'language', 'publication_date', 'views',\n",
    "                                  'uploader', 'score_info', 'rating_n_experts',\n",
    "                                  'rating_n_ratings', 'n_reports'])\n",
    "                assert all([k in videos[0].keys() for k in required_keys])\n",
    "    \n",
    "    def get_trial_params_random(params):\n",
    "        \"\"\"Get random query parameters.\"\"\"\n",
    "        result = {}\n",
    "        for key, arr in query_params_opts.items():\n",
    "            val = np.random.choice(arr)\n",
    "            if val is not None:\n",
    "                result[key] = val\n",
    "        return result    \n",
    "test_get_videos(client)\n"
   ]
  },
  {
   "cell_type": "code",
   "execution_count": null,
   "metadata": {
    "pycharm": {
     "is_executing": false,
     "name": "#%%\n"
    }
   },
   "outputs": [],
   "source": []
  },
  {
   "cell_type": "code",
   "execution_count": null,
   "metadata": {
    "pycharm": {
     "is_executing": false,
     "name": "#%%\n"
    }
   },
   "outputs": [],
   "source": []
  },
  {
   "cell_type": "code",
   "execution_count": null,
   "metadata": {
    "pycharm": {
     "name": "#%%\n"
    }
   },
   "outputs": [],
   "source": [
    "\n"
   ]
  }
 ],
 "metadata": {
  "kernelspec": {
   "display_name": "Django Shell-Plus",
   "language": "python",
   "name": "django_extensions"
  },
  "language_info": {
   "codemirror_mode": {
    "name": "ipython",
    "version": 3
   },
   "file_extension": ".py",
   "mimetype": "text/x-python",
   "name": "python",
   "nbconvert_exporter": "python",
   "pygments_lexer": "ipython3",
   "version": "3.7.9"
  },
  "pycharm": {
   "stem_cell": {
    "cell_type": "raw",
    "metadata": {
     "collapsed": false
    },
    "source": []
   }
  }
 },
 "nbformat": 4,
 "nbformat_minor": 1
}
