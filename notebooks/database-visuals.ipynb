{
 "cells": [
  {
   "cell_type": "code",
   "execution_count": null,
   "metadata": {},
   "outputs": [],
   "source": [
    "import os\n",
    "\n",
    "# for adding the videos to DB\n",
    "# don't use at the same time with the server running\n",
    "# https://stackoverflow.com/questions/59119396/how-to-use-django-3-0-orm-in-a-jupyter-notebook-without-triggering-the-async-con\n",
    "os.environ[\"DJANGO_ALLOW_ASYNC_UNSAFE\"] = \"true\"\n",
    "\n",
    "from backend.models import ExpertRating, Video, VideoRating\n",
    "import numpy as np\n",
    "from backend.rating_fields import VIDEO_FIELDS, VIDEO_FIELDS_DICT\n",
    "from tqdm import tqdm\n",
    "import pandas as pd\n",
    "from backend.models import VideoRating\n",
    "import seaborn as sns\n",
    "from matplotlib import pyplot as plt"
   ]
  },
  {
   "cell_type": "markdown",
   "metadata": {},
   "source": [
    "# Rating of channels"
   ]
  },
  {
   "cell_type": "code",
   "execution_count": null,
   "metadata": {},
   "outputs": [],
   "source": [
    "videos = list(Video.objects.all())"
   ]
  },
  {
   "cell_type": "code",
   "execution_count": null,
   "metadata": {},
   "outputs": [],
   "source": [
    "videos_with_rating = []\n",
    "for video in videos:\n",
    "    ratings = VideoRating.objects.filter(video=video)\n",
    "    ratings = {f: np.median([getattr(r, f) for r in ratings]) for f in VIDEO_FIELDS}\n",
    "    \n",
    "    ratings['video'] = video\n",
    "    ratings['channel'] = video.uploader\n",
    "    videos_with_rating.append(ratings)\n",
    "    \n",
    "videos_with_rating = pd.DataFrame(videos_with_rating)"
   ]
  },
  {
   "cell_type": "code",
   "execution_count": null,
   "metadata": {},
   "outputs": [],
   "source": [
    "df_by_channel = videos_with_rating.groupby('channel').median()"
   ]
  },
  {
   "cell_type": "code",
   "execution_count": null,
   "metadata": {},
   "outputs": [],
   "source": [
    "df_by_channel.hist()"
   ]
  },
  {
   "cell_type": "code",
   "execution_count": null,
   "metadata": {},
   "outputs": [],
   "source": [
    "sorted_by = {VIDEO_FIELDS_DICT[f]: [f\"{x[0]} ({round(x[1], 2)})\" for x in sorted(list(dict(getattr(df_by_channel, f)).items()), key=lambda x: -x[1])] for f in VIDEO_FIELDS}"
   ]
  },
  {
   "cell_type": "code",
   "execution_count": null,
   "metadata": {},
   "outputs": [],
   "source": [
    "pd.DataFrame(sorted_by,)"
   ]
  },
  {
   "cell_type": "markdown",
   "metadata": {},
   "source": [
    "# Comparing experts"
   ]
  },
  {
   "cell_type": "code",
   "execution_count": null,
   "metadata": {},
   "outputs": [],
   "source": [
    "from sklearn.manifold import Isomap"
   ]
  },
  {
   "cell_type": "code",
   "execution_count": null,
   "metadata": {},
   "outputs": [],
   "source": [
    "users = list(UserPreferences.objects.all())\n",
    "videos = list(Video.objects.all())"
   ]
  },
  {
   "cell_type": "code",
   "execution_count": null,
   "metadata": {},
   "outputs": [],
   "source": [
    "def get_user_vector(u):\n",
    "    \"\"\"Get vector of ratings for a user.\"\"\"\n",
    "    # number of ratings\n",
    "    r = len(ExpertRating.objects.filter(user=u))\n",
    "    result = [] #[r]\n",
    "    \n",
    "    for f in VIDEO_FIELDS:\n",
    "        for v in videos:\n",
    "            try:\n",
    "                r = VideoRating.objects.get(user=u, video=v)\n",
    "                cr = [getattr(r, f)]\n",
    "            except:\n",
    "                cr = [0]\n",
    "\n",
    "            result += cr\n",
    "    \n",
    "    return result"
   ]
  },
  {
   "cell_type": "code",
   "execution_count": null,
   "metadata": {},
   "outputs": [],
   "source": [
    "user_vectors = [get_user_vector(u) for u in users]\n",
    "user_vectors = np.array(user_vectors)"
   ]
  },
  {
   "cell_type": "code",
   "execution_count": null,
   "metadata": {},
   "outputs": [],
   "source": [
    "plt.title('Experts feature matrix')\n",
    "sns.heatmap(user_vectors[:, 1:])\n",
    "plt.show()"
   ]
  },
  {
   "cell_type": "code",
   "execution_count": null,
   "metadata": {},
   "outputs": [],
   "source": [
    "user_vectors_mapped = Isomap(n_components=2).fit_transform(user_vectors)"
   ]
  },
  {
   "cell_type": "code",
   "execution_count": null,
   "metadata": {},
   "outputs": [],
   "source": [
    "plt.title('Experts isomap')\n",
    "plt.scatter(*zip(*user_vectors_mapped))\n",
    "for i, u in enumerate(users):\n",
    "    offset = np.random.rand(2) * 3\n",
    "    plt.text(*(user_vectors_mapped[i] + offset), u, alpha=5)\n",
    "plt.show()"
   ]
  },
  {
   "cell_type": "code",
   "execution_count": null,
   "metadata": {},
   "outputs": [],
   "source": []
  }
 ],
 "metadata": {
  "kernelspec": {
   "display_name": "Django Shell-Plus",
   "language": "python",
   "name": "django_extensions"
  },
  "language_info": {
   "codemirror_mode": {
    "name": "ipython",
    "version": 3
   },
   "file_extension": ".py",
   "mimetype": "text/x-python",
   "name": "python",
   "nbconvert_exporter": "python",
   "pygments_lexer": "ipython3",
   "version": "3.7.9"
  }
 },
 "nbformat": 4,
 "nbformat_minor": 4
}
