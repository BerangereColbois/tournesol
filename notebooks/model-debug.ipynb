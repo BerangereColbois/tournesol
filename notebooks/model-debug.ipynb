{
 "cells": [
  {
   "cell_type": "code",
   "execution_count": null,
   "metadata": {},
   "outputs": [],
   "source": [
    "# for adding the videos to DB\n",
    "# don't use at the same time with the server running\n",
    "# https://stackoverflow.com/questions/59119396/how-to-use-django-3-0-orm-in-a-jupyter-notebook-without-triggering-the-async-con\n",
    "import os\n",
    "os.environ[\"DJANGO_ALLOW_ASYNC_UNSAFE\"] = \"true\"\n",
    "\n",
    "#from backend.ml_models import DatabasePreferenceLearner\n",
    "import numpy as np\n",
    "\n",
    "%load_ext autoreload\n",
    "%autoreload 2\n",
    "\n",
    "from backend.ml_model.client_server.django_ml_featureless import DatabasePreferenceLearnerFeatureless\n",
    "from backend.ml_model.helpers import convert_to_tf\n",
    "\n",
    "from backend.rating_fields import VIDEO_FIELDS\n",
    "from backend.models import VideoRating, UserPreferences\n",
    "\n",
    "import tensorflow as tf\n",
    "\n",
    "from matplotlib import pyplot as plt\n",
    "import pandas as pd"
   ]
  },
  {
   "cell_type": "code",
   "execution_count": null,
   "metadata": {},
   "outputs": [],
   "source": [
    "[[getattr(x, f) for f in VIDEO_FIELDS] for x in VideoRating.objects.filter(video__video_id=\"gxAaO2rsdIs\")]"
   ]
  },
  {
   "cell_type": "code",
   "execution_count": null,
   "metadata": {},
   "outputs": [],
   "source": []
  },
  {
   "cell_type": "code",
   "execution_count": null,
   "metadata": {},
   "outputs": [],
   "source": [
    "l = DatabasePreferenceLearnerFeatureless()\n",
    "l.fit()"
   ]
  },
  {
   "cell_type": "code",
   "execution_count": null,
   "metadata": {},
   "outputs": [],
   "source": [
    "mb = l.aggregator.sample_minibatch(1000, 1000, 1000)"
   ]
  },
  {
   "cell_type": "code",
   "execution_count": null,
   "metadata": {},
   "outputs": [],
   "source": [
    "l.all_ratings.aggregate_index"
   ]
  },
  {
   "cell_type": "code",
   "execution_count": null,
   "metadata": {},
   "outputs": [],
   "source": [
    "locals().update(mb)"
   ]
  },
  {
   "cell_type": "code",
   "execution_count": null,
   "metadata": {},
   "outputs": [],
   "source": [
    "self = l.aggregator"
   ]
  },
  {
   "cell_type": "code",
   "execution_count": null,
   "metadata": {},
   "outputs": [],
   "source": [
    "v_int_id = self.all_ratings.objects_reverse['gxAaO2rsdIs']"
   ]
  },
  {
   "cell_type": "code",
   "execution_count": null,
   "metadata": {},
   "outputs": [],
   "source": [
    "v_int_id"
   ]
  },
  {
   "cell_type": "code",
   "execution_count": null,
   "metadata": {},
   "outputs": [],
   "source": [
    "C = 1\n",
    "mu = 1e-2\n",
    "lambda_ = 1e-2"
   ]
  },
  {
   "cell_type": "code",
   "execution_count": null,
   "metadata": {},
   "outputs": [],
   "source": []
  },
  {
   "cell_type": "code",
   "execution_count": null,
   "metadata": {},
   "outputs": [],
   "source": []
  },
  {
   "cell_type": "code",
   "execution_count": null,
   "metadata": {},
   "outputs": [],
   "source": []
  },
  {
   "cell_type": "code",
   "execution_count": null,
   "metadata": {},
   "outputs": [],
   "source": [
    "theta_s_withcoeff[objects_all == 44]"
   ]
  },
  {
   "cell_type": "code",
   "execution_count": null,
   "metadata": {},
   "outputs": [],
   "source": [
    "idx_all[num_ratings_all > 0]"
   ]
  },
  {
   "cell_type": "code",
   "execution_count": null,
   "metadata": {},
   "outputs": [],
   "source": [
    "result = {}\n",
    "\n",
    "# internal indices for experts and objects (ratings)\n",
    "idx_v1 = tf.stack((experts_rating, objects_rating_v1), axis=1)\n",
    "idx_v2 = tf.stack((experts_rating, objects_rating_v2), axis=1)\n",
    "\n",
    "# 2D array (comparison_id, feature) -> float\n",
    "theta_eqv = self.all_ratings.model(idx_v1)\n",
    "theta_eqw = self.all_ratings.model(idx_v2)\n",
    "\n",
    "# FIT LOSS SUM\n",
    "theta_vw = theta_eqv - theta_eqw\n",
    "# print(theta_vw.shape, cmp.shape)\n",
    "theta_vw_y = tf.math.multiply(theta_vw, cmp)\n",
    "sp = tf.math.softplus(theta_vw_y)\n",
    "sp_weighted = tf.math.multiply(sp, weights)\n",
    "\n",
    "result['loss_fit'] = tf.reduce_sum(sp_weighted)\n",
    "\n",
    "# LOSS MODEL TO COMMON\n",
    "# common expert\n",
    "experts_common = self.all_ratings.aggregate_index * tf.ones(shape=experts_all.shape, dtype=tf.int64)\n",
    "\n",
    "# indices for experts for regularization\n",
    "idx_all = tf.stack((experts_all, objects_all), axis=1)\n",
    "idx_common = tf.stack((experts_common, objects_all), axis=1)\n",
    "\n",
    "# 2D array (regul_id, feature) -> float\n",
    "theta_eqv_common = self.all_ratings.model(idx_all)\n",
    "s_qv = self.all_ratings.model(idx_common)\n",
    "\n",
    "# print(\"IDX\", idx_common.shape, s_qv.shape)\n",
    "\n",
    "# coefficient, shape: regul_id\n",
    "num_float = tf.cast(num_ratings_all, tf.keras.backend.floatx())\n",
    "coef_yev = tf.divide(num_float, C + num_float)\n",
    "# print(theta_eqv_common.shape, s_qv.shape)\n",
    "theta_s = tf.abs(theta_eqv_common - s_qv)\n",
    "coef_yev_repeated = tf.repeat(tf.expand_dims(coef_yev, axis=1), theta_s.shape[1], axis=1)\n",
    "# print(\"THETAS\", theta_s.shape, \"COEF\", coef_yev.shape, \"COEFR\", coef_yev_repeated.shape)\n",
    "theta_s_withcoeff = tf.multiply(theta_s, coef_yev_repeated)\n",
    "result['loss_m_to_common'] = tf.reduce_sum(theta_s_withcoeff) * lambda_\n",
    "\n",
    "# LOSS COMMON TO 0\n",
    "experts_common_to_1 = self.all_ratings.aggregate_index * tf.ones(shape=objects_common_to_1.shape,\n",
    "                                                                 dtype=tf.int64)\n",
    "idx_common_to_1 = tf.stack((experts_common_to_1, objects_common_to_1), axis=1)\n",
    "s_qv_common_to_1 = self.all_ratings.model(idx_common_to_1)\n",
    "\n",
    "sm1 = tf.math.square(s_qv_common_to_1 - 1)\n",
    "\n",
    "# print(idx_common_to_1, s_qv_common_to_1, sm1)\n",
    "\n",
    "result['loss_common_to_1'] = tf.reduce_sum(sm1) * mu\n",
    "\n",
    "# TOTAL LOSS\n",
    "result['loss'] = result['loss_fit'] + result['loss_m_to_common'] + \\\n",
    "                 result['loss_common_to_1']"
   ]
  },
  {
   "cell_type": "code",
   "execution_count": null,
   "metadata": {},
   "outputs": [],
   "source": []
  },
  {
   "cell_type": "code",
   "execution_count": null,
   "metadata": {},
   "outputs": [],
   "source": []
  },
  {
   "cell_type": "code",
   "execution_count": null,
   "metadata": {},
   "outputs": [],
   "source": [
    "pd.DataFrame(result)"
   ]
  },
  {
   "cell_type": "code",
   "execution_count": null,
   "metadata": {},
   "outputs": [],
   "source": []
  },
  {
   "cell_type": "code",
   "execution_count": null,
   "metadata": {},
   "outputs": [],
   "source": [
    "video_info_keys = ['uploader', 'language', 'views', 'publication_date', 'name']\n",
    "video_info = {v.video_id: {k: getattr(v, k) for k in video_info_keys} for v in Video.objects.all()}\n",
    "\n",
    "objs = l.all_ratings.objects\n",
    "predictions = [m(objs) for m in l.aggregator.models] + [l.aggregator(objs)]\n",
    "\n",
    "experts = [UserPreferences.objects.get(id=x).username if isinstance(x, int) else x for x in l.all_ratings.experts]\n",
    "\n",
    "F = l.all_ratings.output_features + ['sum']\n",
    "\n",
    "for exp_name, preds in zip(experts, predictions):\n",
    "    suff = [\"_vid\", \"_pred\"] + [f\"_{k}\" for k in video_info_keys]\n",
    "    best_worst = {f + s: [] for s in suff for f in F}\n",
    "    \n",
    "    preds_ = np.zeros(shape=(preds.shape[0], preds.shape[1] + 1))\n",
    "    preds_[:, :-1] = preds\n",
    "    preds_[:, -1] = np.sum(preds, axis=1)\n",
    "    \n",
    "    for i, f in enumerate(F):\n",
    "        out_arr = preds_[:, i]\n",
    "        idx_sorted = np.argsort(out_arr)[::-1]\n",
    "        \n",
    "        preds_sorted = out_arr.copy()[idx_sorted]\n",
    "        objs_sorted = np.array(objs)[idx_sorted]\n",
    "        \n",
    "        \n",
    "        for idx in range(5):\n",
    "            best_worst[f\"{f}_vid\"].append(objs_sorted[idx])\n",
    "            for k in video_info_keys:\n",
    "                best_worst[f\"{f}_{k}\"].append(video_info[objs_sorted[idx]][k])\n",
    "            best_worst[f\"{f}_pred\"].append(preds_sorted[idx])\n",
    "            \n",
    "        for s in suff:\n",
    "            best_worst[f\"{f}{s}\"].append(\"...\")\n",
    "            \n",
    "        for idx in range(len(idx_sorted))[-5:]:\n",
    "            best_worst[f\"{f}_vid\"].append(objs_sorted[idx])\n",
    "            for k in video_info_keys:\n",
    "                best_worst[f\"{f}_{k}\"].append(video_info[objs_sorted[idx]][k])\n",
    "            best_worst[f\"{f}_pred\"].append(preds_sorted[idx])\n",
    "        \n",
    "    df = pd.DataFrame(best_worst)\n",
    "    df.to_csv(f'{exp_name}.csv', index=False)"
   ]
  },
  {
   "cell_type": "code",
   "execution_count": null,
   "metadata": {},
   "outputs": [],
   "source": [
    "pd.DataFrame(best_worst)"
   ]
  },
  {
   "cell_type": "code",
   "execution_count": null,
   "metadata": {},
   "outputs": [],
   "source": []
  },
  {
   "cell_type": "code",
   "execution_count": null,
   "metadata": {},
   "outputs": [],
   "source": [
    "np.where(idx_common[:, 1] == 44)"
   ]
  },
  {
   "cell_type": "code",
   "execution_count": null,
   "metadata": {},
   "outputs": [],
   "source": []
  },
  {
   "cell_type": "code",
   "execution_count": null,
   "metadata": {},
   "outputs": [],
   "source": [
    "coef_yev_repeated[44]"
   ]
  },
  {
   "cell_type": "code",
   "execution_count": null,
   "metadata": {},
   "outputs": [],
   "source": [
    "plt.hist(num_float)"
   ]
  },
  {
   "cell_type": "code",
   "execution_count": null,
   "metadata": {},
   "outputs": [],
   "source": [
    "result"
   ]
  },
  {
   "cell_type": "code",
   "execution_count": null,
   "metadata": {},
   "outputs": [],
   "source": [
    "x = np.linspace(-10, 10, 100)\n",
    "plt.plot(x, np.log(1 + np.exp(x)))"
   ]
  },
  {
   "cell_type": "code",
   "execution_count": null,
   "metadata": {},
   "outputs": [],
   "source": []
  }
 ],
 "metadata": {
  "kernelspec": {
   "display_name": "Django Shell-Plus",
   "language": "python",
   "name": "django_extensions"
  },
  "language_info": {
   "codemirror_mode": {
    "name": "ipython",
    "version": 3
   },
   "file_extension": ".py",
   "mimetype": "text/x-python",
   "name": "python",
   "nbconvert_exporter": "python",
   "pygments_lexer": "ipython3",
   "version": "3.7.9"
  }
 },
 "nbformat": 4,
 "nbformat_minor": 4
}
