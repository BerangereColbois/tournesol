{
 "cells": [
  {
   "cell_type": "code",
   "execution_count": null,
   "metadata": {},
   "outputs": [],
   "source": [
    "%load_ext autoreload\n",
    "%autoreload 2\n",
    "\n",
    "import os\n",
    "\n",
    "# for adding the videos to DB\n",
    "# don't use at the same time with the server running\n",
    "# https://stackoverflow.com/questions/59119396/how-to-use-django-3-0-orm-in-a-jupyter-notebook-without-triggering-the-async-con\n",
    "os.environ[\"DJANGO_ALLOW_ASYNC_UNSAFE\"] = \"true\"\n",
    "\n",
    "from backend.models import Video, UserPreferences, ExpertRating, DjangoUser, UserInformation, EmailDomain\n",
    "from backend.rating_fields import VIDEO_FIELDS\n",
    "import numpy as np\n",
    "\n",
    "from ipywidgets import interact, interactive, fixed, interact_manual\n",
    "import ipywidgets as widgets\n",
    "from IPython.display import HTML, IFrame, display\n",
    "from IPython.display import YouTubeVideo\n",
    "import pandas as pd\n",
    "from tqdm.auto import tqdm\n",
    "import gin\n",
    "from backend.rating_fields import MAX_VALUE\n",
    "from matplotlib import pyplot as plt\n",
    "gin.enter_interactive_mode()\n",
    "\n",
    "from ipywidgets import FloatProgress\n",
    "from IPython.display import display\n",
    "from functools import partial\n",
    "import time\n",
    "from ipywidgets import interact, interactive, fixed, interact_manual\n",
    "import ipywidgets as widgets\n",
    "import logging\n",
    "from django_react.settings import load_gin_config\n",
    "from backend.ml_model.preference_aggregation_featureless_online import FeaturelessOnlineUpdater, compute_online_update\n",
    "from backend.ml_model.preference_aggregation_featureless_online_db import OnlineRatingUpdateContext"
   ]
  },
  {
   "cell_type": "markdown",
   "metadata": {},
   "source": [
    "# Using Updater class"
   ]
  },
  {
   "cell_type": "code",
   "execution_count": null,
   "metadata": {},
   "outputs": [],
   "source": [
    "load_gin_config('../backend/backend/ml_model/config/featureless_config.gin')"
   ]
  },
  {
   "cell_type": "code",
   "execution_count": null,
   "metadata": {},
   "outputs": [],
   "source": [
    "logging.basicConfig()\n",
    "logging.getLogger().setLevel(logging.WARNING)"
   ]
  },
  {
   "cell_type": "code",
   "execution_count": null,
   "metadata": {},
   "outputs": [],
   "source": [
    "# rating to change\n",
    "user_set_value = 'sergei'\n",
    "rating_to_change = ExpertRating.objects.filter(user__user__username=user_set_value).order_by('?')[0]\n",
    "video1 = rating_to_change.video_1\n",
    "video2 = rating_to_change.video_2\n",
    "field_to_change = VIDEO_FIELDS[0]"
   ]
  },
  {
   "cell_type": "code",
   "execution_count": null,
   "metadata": {},
   "outputs": [],
   "source": [
    "# database stats\n",
    "qs = Video.objects.all()\n",
    "qs = qs.annotate(num_scores=Count('videorating', distinct=True))\n",
    "qs = qs.annotate(num_ratings1=Count('expertrating_video_1', distinct=True))\n",
    "qs = qs.annotate(num_ratings2=Count('expertrating_video_2', distinct=True))\n",
    "qs = qs.annotate(num_ratings=F('num_ratings1') + F('num_ratings2'))\n",
    "maxes = qs.aggregate(max_scores=Max('num_scores'), max_ratings=Max('num_ratings'))\n",
    "qs = qs.annotate(_metric=F('num_ratings') / maxes['max_ratings'] )#+ F('num_scores') / maxes['max_scores'])\n",
    "\n",
    "qs = qs.order_by('-_metric')\n",
    "qs[0]._metric, qs[0].num_ratings, qs[0].num_scores"
   ]
  },
  {
   "cell_type": "code",
   "execution_count": null,
   "metadata": {},
   "outputs": [],
   "source": [
    "# data from the databse\n",
    "update_context = OnlineRatingUpdateContext(rating_to_change, field_to_change)"
   ]
  },
  {
   "cell_type": "code",
   "execution_count": null,
   "metadata": {},
   "outputs": [],
   "source": [
    "# %timeit OnlineRatingUpdateContext(rating_to_change, field_to_change)\n",
    "# need to cache the model tensor\n",
    "# and invalidate after some time (or when someone writes into the db)"
   ]
  },
  {
   "cell_type": "code",
   "execution_count": null,
   "metadata": {},
   "outputs": [],
   "source": [
    "gin.bind_parameter('FeaturelessOnlineUpdater.golden_params',\n",
    "                  {'maxiter': 20, 'tol': 1e-8, 'smartbracket': (-2, 2)})"
   ]
  },
  {
   "cell_type": "code",
   "execution_count": null,
   "metadata": {},
   "outputs": [],
   "source": [
    "print(\"### Online updates demo\")\n",
    "\n",
    "print(\"Changing\", update_context.feature, \"on\", update_context.video1, '/', update_context.video2)\n",
    "print(\"Rating by\", update_context.my_username)\n",
    "print(\"Other users\", len(update_context.usernames) - 1)\n",
    "print(\"Ratings in the loss\", len(update_context.ratings_selected))\n",
    "print(\"Videos in the loss\", len(update_context.videos_selected))\n",
    "\n",
    "PB_MIN_SCORE, PB_MAX_SCORE = -5, 5\n",
    "\n",
    "users_get_value = range(len(update_context.usernames) + 1)\n",
    "pbars = []\n",
    "pbars_v1 = []\n",
    "pbars_v2 = []\n",
    "for username in update_context.usernames + ['aggregated']:\n",
    "    pbar = FloatProgress(min=0, max=100, description=username, bar_style='success')\n",
    "    pbars.append(pbar)\n",
    "    \n",
    "    pbar_v1 = FloatProgress(min=PB_MIN_SCORE,\n",
    "                            max=PB_MAX_SCORE, description=f'L {username}')\n",
    "    pbars_v1.append(pbar_v1)\n",
    "    \n",
    "    pbar_v2 = FloatProgress(min=PB_MIN_SCORE,\n",
    "                            max=PB_MAX_SCORE, description=f'R {username}')\n",
    "    pbars_v2.append(pbar_v2)\n",
    "    \n",
    "for pbar in pbars:\n",
    "    display(pbar)\n",
    "    \n",
    "for idx in range(len(pbars_v1)):\n",
    "    display(pbars_v1[idx])\n",
    "    display(pbars_v2[idx])\n",
    "\n",
    "initial_rating = update_context.mb_np['cmp'][update_context.idx_set][0]\n",
    "interact(compute_online_update, rating_value=widgets.FloatSlider(min=-1, max=1, step=0.05,\n",
    "                                                                 value=initial_rating),\n",
    "         pbars=fixed({'comparison': pbars,\n",
    "                     'v1': pbars_v1, 'v2': pbars_v2}), mb_np_orig=fixed(update_context.mb_np),\n",
    "         model_tensor_orig=fixed(update_context.model_tensor),\n",
    "         idx_set=fixed(update_context.idx_set), users_get_value=fixed(users_get_value),\n",
    "         maxiter=20, n_repeats=1, tol=fixed(1e-8),\n",
    "         hotfix_update_hypers=fixed({})) # {'mu': 1, 'lambda_': 0.1}"
   ]
  },
  {
   "cell_type": "code",
   "execution_count": null,
   "metadata": {},
   "outputs": [],
   "source": [
    "update_context.write_updates_to_db(update_context.model_tensor)"
   ]
  },
  {
   "cell_type": "code",
   "execution_count": null,
   "metadata": {},
   "outputs": [],
   "source": []
  },
  {
   "cell_type": "code",
   "execution_count": null,
   "metadata": {},
   "outputs": [],
   "source": []
  }
 ],
 "metadata": {
  "kernelspec": {
   "display_name": "Django Shell-Plus",
   "language": "python",
   "name": "django_extensions"
  },
  "language_info": {
   "codemirror_mode": {
    "name": "ipython",
    "version": 3
   },
   "file_extension": ".py",
   "mimetype": "text/x-python",
   "name": "python",
   "nbconvert_exporter": "python",
   "pygments_lexer": "ipython3",
   "version": "3.7.9"
  }
 },
 "nbformat": 4,
 "nbformat_minor": 4
}
