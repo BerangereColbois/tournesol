{
 "cells": [
  {
   "cell_type": "code",
   "execution_count": null,
   "metadata": {},
   "outputs": [],
   "source": [
    "# for adding the videos to DB\n",
    "# don't use at the same time with the server running\n",
    "# https://stackoverflow.com/questions/59119396/how-to-use-django-3-0-orm-in-a-jupyter-notebook-without-triggering-the-async-con\n",
    "import os\n",
    "os.environ[\"DJANGO_ALLOW_ASYNC_UNSAFE\"] = \"true\"\n",
    "\n",
    "from backend.models import Video, ExpertRating, UserPreferences\n",
    "from django.contrib.auth.models import User as DjangoUser\n",
    "import base64\n",
    "import numpy as np\n",
    "from sklearn.decomposition import PCA\n",
    "%matplotlib inline\n",
    "from matplotlib import pyplot as plt\n",
    "from django.db.models import Q"
   ]
  },
  {
   "cell_type": "code",
   "execution_count": null,
   "metadata": {},
   "outputs": [],
   "source": [
    "# obtaining all videos\n",
    "videos = list(Video.objects.all())"
   ]
  },
  {
   "cell_type": "code",
   "execution_count": null,
   "metadata": {},
   "outputs": [],
   "source": [
    "print(\"Number of videos in db: %d\" % len(videos))"
   ]
  },
  {
   "cell_type": "code",
   "execution_count": null,
   "metadata": {},
   "outputs": [],
   "source": [
    "print(\"Percentage of videos with a name: %.1f\" % \\\n",
    "      (100 * np.mean([len(v.name) > 5 for v in videos])))"
   ]
  },
  {
   "cell_type": "code",
   "execution_count": null,
   "metadata": {},
   "outputs": [],
   "source": [
    "print(\"Percentage of videos with a description: %.1f\" % \\\n",
    "      (100 * np.mean([len(v.description) > 5 if v.description else 0 for v in videos])))"
   ]
  },
  {
   "cell_type": "code",
   "execution_count": null,
   "metadata": {},
   "outputs": [],
   "source": [
    "print(\"Percentage of videos with text: %.1f\" % \\\n",
    "      (100 * np.mean([len(v.caption_text) > 5 if v.caption_text else 0 for v in videos])))"
   ]
  },
  {
   "cell_type": "code",
   "execution_count": null,
   "metadata": {},
   "outputs": [],
   "source": [
    "print(\"Percentage of videos with an embedding: %.1f\" % \\\n",
    "      (100 * np.mean([v.get_embedding_np_array() is not None for v in videos])))"
   ]
  },
  {
   "cell_type": "markdown",
   "metadata": {},
   "source": [
    "# Expert Ratings"
   ]
  },
  {
   "cell_type": "code",
   "execution_count": null,
   "metadata": {},
   "outputs": [],
   "source": [
    "comparisons = [x.features_as_vector_centered() for x in ExpertRating.objects.all()]\n",
    "comparisons = np.array(comparisons)"
   ]
  },
  {
   "cell_type": "code",
   "execution_count": null,
   "metadata": {},
   "outputs": [],
   "source": [
    "print(\"Number of comparisons: %d\" % len(comparisons))"
   ]
  },
  {
   "cell_type": "code",
   "execution_count": null,
   "metadata": {},
   "outputs": [],
   "source": [
    "for comp in range(comparisons.shape[1]):\n",
    "    plt.hist(comparisons[:, comp], alpha=0.5)\n",
    "    plt.show()"
   ]
  },
  {
   "cell_type": "code",
   "execution_count": null,
   "metadata": {},
   "outputs": [],
   "source": []
  },
  {
   "cell_type": "markdown",
   "metadata": {},
   "source": [
    "### Plotting all the videos with embeddings"
   ]
  },
  {
   "cell_type": "code",
   "execution_count": null,
   "metadata": {},
   "outputs": [],
   "source": [
    "# loading them\n",
    "videos_with_emb = [v for v in videos if v.get_embedding_np_array() is not None]"
   ]
  },
  {
   "cell_type": "code",
   "execution_count": null,
   "metadata": {},
   "outputs": [],
   "source": [
    "# all embeddings\n",
    "embeddings = [v.get_embedding_np_array() for v in videos_with_emb]"
   ]
  },
  {
   "cell_type": "code",
   "execution_count": null,
   "metadata": {},
   "outputs": [],
   "source": [
    "# PCA of embeddings\n",
    "pca_emb = PCA(n_components=2).fit_transform(embeddings)"
   ]
  },
  {
   "cell_type": "code",
   "execution_count": null,
   "metadata": {},
   "outputs": [],
   "source": [
    "# plotting all videos\n",
    "plt.figure(figsize=(10, 10))\n",
    "plt.title(\"All videos: embedding\")\n",
    "plt.scatter(pca_emb[:, 0], pca_emb[:, 1])\n",
    "for i, v in enumerate(videos_with_emb):\n",
    "    v_emb = pca_emb[i]\n",
    "    plt.text(*v_emb, v.name)\n",
    "plt.xlabel(\"PCA component 1\")\n",
    "plt.ylabel(\"PCA component 2\")\n",
    "plt.show()"
   ]
  },
  {
   "cell_type": "markdown",
   "metadata": {},
   "source": [
    "### Number of ratings for a video\n",
    "Developing a function to select best videos to rate"
   ]
  },
  {
   "cell_type": "code",
   "execution_count": null,
   "metadata": {},
   "outputs": [],
   "source": [
    "username = 'sergei'\n",
    "django_user = DjangoUser.objects.get(username=username)\n",
    "user_preferences = UserPreferences.objects.get(user=django_user)"
   ]
  },
  {
   "cell_type": "code",
   "execution_count": null,
   "metadata": {},
   "outputs": [],
   "source": [
    "def num_ratings_to_prob_selection(x, T=1):\n",
    "    \"\"\"Number of ratings -> probability of selection to rate.\"\"\"\n",
    "    y = np.exp((-T) * np.array(x))\n",
    "    return y / np.sum(y)\n",
    "num_ratings_to_prob_selection([v.n_ratings() for v in videos])"
   ]
  },
  {
   "cell_type": "code",
   "execution_count": null,
   "metadata": {},
   "outputs": [],
   "source": [
    "def sample_video_to_rate():\n",
    "    \"\"\"Sample one video to rate.\"\"\"\n",
    "    videos = Video.objects.all()\n",
    "    return np.random.choice(videos, p=num_ratings_to_prob_selection([v.n_ratings() for v in videos]))"
   ]
  },
  {
   "cell_type": "code",
   "execution_count": null,
   "metadata": {},
   "outputs": [],
   "source": [
    "def selection_loop(user, max_trials=50):\n",
    "    \"\"\"Select two videos which were not rated yet.\"\"\"\n",
    "    for _ in range(max_trials):\n",
    "        video_1 = sample_video_to_rate()\n",
    "        video_2 = sample_video_to_rate()\n",
    "        if len(ExpertRating.objects.filter(video_1=video_1, video_2=video_2, user=user)):\n",
    "            continue\n",
    "        return [video_1, video_2]\n",
    "    return None"
   ]
  },
  {
   "cell_type": "code",
   "execution_count": null,
   "metadata": {},
   "outputs": [],
   "source": [
    "# calling inline fcn\n",
    "np.random.seed(42)\n",
    "selection_loop(user_preferences)"
   ]
  },
  {
   "cell_type": "code",
   "execution_count": null,
   "metadata": {},
   "outputs": [],
   "source": [
    "# calling same stuff via the model\n",
    "np.random.seed(42)\n",
    "ExpertRating.two_videos_to_rate(django_user)"
   ]
  },
  {
   "cell_type": "code",
   "execution_count": null,
   "metadata": {},
   "outputs": [],
   "source": []
  }
 ],
 "metadata": {
  "kernelspec": {
   "display_name": "Django Shell-Plus",
   "language": "python",
   "name": "django_extensions"
  },
  "language_info": {
   "codemirror_mode": {
    "name": "ipython",
    "version": 3
   },
   "file_extension": ".py",
   "mimetype": "text/x-python",
   "name": "python",
   "nbconvert_exporter": "python",
   "pygments_lexer": "ipython3",
   "version": "3.7.9"
  }
 },
 "nbformat": 4,
 "nbformat_minor": 4
}
