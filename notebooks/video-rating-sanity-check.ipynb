{
 "cells": [
  {
   "cell_type": "code",
   "execution_count": null,
   "metadata": {},
   "outputs": [],
   "source": [
    "import os\n",
    "\n",
    "# for adding the videos to DB\n",
    "# don't use at the same time with the server running\n",
    "# https://stackoverflow.com/questions/59119396/how-to-use-django-3-0-orm-in-a-jupyter-notebook-without-triggering-the-async-con\n",
    "os.environ[\"DJANGO_ALLOW_ASYNC_UNSAFE\"] = \"true\"\n",
    "\n",
    "from backend.models import ExpertRating, Video, VideoRating, DjangoUser, UserPreferences\n",
    "import numpy as np\n",
    "from backend.rating_fields import VIDEO_FIELDS\n",
    "from tqdm import tqdm\n",
    "import pandas as pd\n",
    "from django.db.models import Q"
   ]
  },
  {
   "cell_type": "code",
   "execution_count": null,
   "metadata": {},
   "outputs": [],
   "source": [
    "# see https://github.com/tournesol-app/recommender-system-alignment-proof-of-concept/issues/114\n",
    "video_id = 'W-JFIap_2OE'\n",
    "username = 'lenhoang'"
   ]
  },
  {
   "cell_type": "code",
   "execution_count": null,
   "metadata": {},
   "outputs": [],
   "source": [
    "user_django = DjangoUser.objects.get(username=username)\n",
    "user = UserPreferences.objects.get(user=user_django)"
   ]
  },
  {
   "cell_type": "code",
   "execution_count": null,
   "metadata": {},
   "outputs": [],
   "source": [
    "user.features_as_vector_centered()"
   ]
  },
  {
   "cell_type": "code",
   "execution_count": null,
   "metadata": {},
   "outputs": [],
   "source": [
    "video = Video.objects.get(video_id=video_id)"
   ]
  },
  {
   "cell_type": "code",
   "execution_count": null,
   "metadata": {},
   "outputs": [],
   "source": [
    "video.name"
   ]
  },
  {
   "cell_type": "code",
   "execution_count": null,
   "metadata": {},
   "outputs": [],
   "source": [
    "rating = VideoRating.objects.get(video=video, user=user)"
   ]
  },
  {
   "cell_type": "code",
   "execution_count": null,
   "metadata": {},
   "outputs": [],
   "source": [
    "for f in VIDEO_FIELDS:\n",
    "    print(f, getattr(rating, f))"
   ]
  },
  {
   "cell_type": "code",
   "execution_count": null,
   "metadata": {},
   "outputs": [],
   "source": [
    "video.score_fcn(user=user_django)"
   ]
  },
  {
   "cell_type": "code",
   "execution_count": null,
   "metadata": {},
   "outputs": [],
   "source": [
    "Video.objects.get(video_id='3WMuzhQXJoY').score_fcn(user=user_django)"
   ]
  },
  {
   "cell_type": "markdown",
   "metadata": {},
   "source": [
    "### video is always worse in terms of ratings but the score is higher..."
   ]
  },
  {
   "cell_type": "code",
   "execution_count": null,
   "metadata": {},
   "outputs": [],
   "source": [
    "for r in ExpertRating.objects.filter(Q(user=user) & (Q(video_1=video) | Q(video_2=video))):\n",
    "    print(r)\n",
    "    \n",
    "    inverse = r.video_1 == video\n",
    "    other = r.video_2 if inverse else r.video_1\n",
    "    print('oth score', other.score_fcn(user=user_django))\n",
    "    \n",
    "    for f in VIDEO_FIELDS:\n",
    "        \n",
    "        print(' ', f, getattr(r, f), inverse)"
   ]
  },
  {
   "cell_type": "code",
   "execution_count": null,
   "metadata": {},
   "outputs": [],
   "source": []
  }
 ],
 "metadata": {
  "kernelspec": {
   "display_name": "Django Shell-Plus",
   "language": "python",
   "name": "django_extensions"
  },
  "language_info": {
   "codemirror_mode": {
    "name": "ipython",
    "version": 3
   },
   "file_extension": ".py",
   "mimetype": "text/x-python",
   "name": "python",
   "nbconvert_exporter": "python",
   "pygments_lexer": "ipython3",
   "version": "3.7.4"
  }
 },
 "nbformat": 4,
 "nbformat_minor": 4
}
