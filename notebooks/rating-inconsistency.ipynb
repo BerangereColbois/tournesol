{
 "cells": [
  {
   "cell_type": "code",
   "execution_count": null,
   "metadata": {},
   "outputs": [],
   "source": [
    "import os\n",
    "\n",
    "# for adding the videos to DB\n",
    "# don't use at the same time with the server running\n",
    "# https://stackoverflow.com/questions/59119396/how-to-use-django-3-0-orm-in-a-jupyter-notebook-without-triggering-the-async-con\n",
    "os.environ[\"DJANGO_ALLOW_ASYNC_UNSAFE\"] = \"true\"\n",
    "\n",
    "from backend.cycle_preference_inconsistency import get_edges_list, graph_from_edges, inconsistencies_for_queryset\n",
    "import networkx as nx\n",
    "from backend.rating_fields import VIDEO_FIELDS, MAX_VALUE\n",
    "import numpy as np\n",
    "from backend.models import DjangoUser\n",
    "from django.db.models import Value, F, FloatField, Func, Q\n",
    "import shortuuid\n",
    "import string\n",
    "from matplotlib import pyplot as plt\n",
    "from backend.cycle_preference_inconsistency import inconsistencies_3_for_queryset,\\\n",
    "get_cycles_weights_3, get_edges_list_db\n",
    "from backend.tests.tests import TestInconsistencies3\n",
    "add_inconsistency = TestInconsistencies3.add_inconsistency"
   ]
  },
  {
   "cell_type": "code",
   "execution_count": null,
   "metadata": {},
   "outputs": [],
   "source": [
    "def random_alphanumeric(length=10, alphabet=None):\n",
    "    \"\"\"UUID1 without -.\"\"\"\n",
    "    if alphabet is None:\n",
    "        alphabet = string.ascii_lowercase + string.digits\n",
    "    res = shortuuid.ShortUUID(alphabet=alphabet).random(length=length)\n",
    "    return str(res).replace('-', '')"
   ]
  },
  {
   "cell_type": "code",
   "execution_count": null,
   "metadata": {},
   "outputs": [],
   "source": [
    "un = 'inconsistent_person'\n",
    "DjangoUser.objects.filter(username=un).delete()\n",
    "dj_u = DjangoUser.objects.create_user(username=un)"
   ]
  },
  {
   "cell_type": "code",
   "execution_count": null,
   "metadata": {},
   "outputs": [],
   "source": [
    "user, _ = UserPreferences.objects.get_or_create(user=dj_u)"
   ]
  },
  {
   "cell_type": "code",
   "execution_count": null,
   "metadata": {},
   "outputs": [],
   "source": [
    "n_videos = 10000\n",
    "n_ratings = 10000"
   ]
  },
  {
   "cell_type": "code",
   "execution_count": null,
   "metadata": {},
   "outputs": [],
   "source": [
    "Video.objects.filter(video_id__endswith='-inc').delete()"
   ]
  },
  {
   "cell_type": "code",
   "execution_count": null,
   "metadata": {},
   "outputs": [],
   "source": [
    "video_ids = [\"%09d-%s-inc\" % (i, random_alphanumeric()) for i in range(n_videos)]"
   ]
  },
  {
   "cell_type": "code",
   "execution_count": null,
   "metadata": {},
   "outputs": [],
   "source": [
    "objs = [Video(video_id=vid) for vid in video_ids]"
   ]
  },
  {
   "cell_type": "code",
   "execution_count": null,
   "metadata": {},
   "outputs": [],
   "source": [
    "_ = Video.objects.bulk_create(objs)"
   ]
  },
  {
   "cell_type": "code",
   "execution_count": null,
   "metadata": {},
   "outputs": [],
   "source": [
    "videos = list(Video.objects.filter(video_id__in=video_ids))"
   ]
  },
  {
   "cell_type": "code",
   "execution_count": null,
   "metadata": {},
   "outputs": [],
   "source": [
    "# creating random ratings\n",
    "video_firsts = np.random.choice(n_videos - 1, n_ratings, replace=True) + 1\n",
    "video_seconds = []\n",
    "for i in video_firsts:\n",
    "    video_seconds.append(np.random.choice(i))\n",
    "assert len(video_firsts) == len(video_seconds)\n",
    "pairs = list(zip(video_firsts, video_seconds))\n",
    "\n",
    "assert all([x > y] for x, y in pairs)\n",
    "assert (len(pairs) - len(set(pairs))) / len(pairs) < 0.05\n",
    "pairs = set(pairs)"
   ]
  },
  {
   "cell_type": "code",
   "execution_count": null,
   "metadata": {},
   "outputs": [],
   "source": [
    "ratings = [ExpertRating(user=user, video_1=videos[int(i)], video_2=videos[int(j)],\n",
    "                        **{f: np.random.rand() * MAX_VALUE for f in VIDEO_FIELDS}\n",
    "                       ) for i, j in pairs]"
   ]
  },
  {
   "cell_type": "code",
   "execution_count": null,
   "metadata": {},
   "outputs": [],
   "source": [
    "_ = ExpertRating.objects.bulk_create(ratings)"
   ]
  },
  {
   "cell_type": "code",
   "execution_count": null,
   "metadata": {},
   "outputs": [],
   "source": [
    "n_inc = 10\n",
    "ground_truth_inconsistencies = [add_inconsistency(user, feature='reliability') for _ in range(n_inc)]"
   ]
  },
  {
   "cell_type": "code",
   "execution_count": null,
   "metadata": {},
   "outputs": [],
   "source": [
    "qs = ExpertRating.objects.filter(user=user)"
   ]
  },
  {
   "cell_type": "code",
   "execution_count": null,
   "metadata": {},
   "outputs": [],
   "source": [
    "ground_truth_inconsistencies"
   ]
  },
  {
   "cell_type": "code",
   "execution_count": null,
   "metadata": {},
   "outputs": [],
   "source": [
    "edges = get_edges_list_db(qs, 'reliability')"
   ]
  },
  {
   "cell_type": "code",
   "execution_count": null,
   "metadata": {},
   "outputs": [],
   "source": [
    "len(edges)"
   ]
  },
  {
   "cell_type": "code",
   "execution_count": null,
   "metadata": {},
   "outputs": [],
   "source": [
    "%timeit get_cycles_weights_3(edges)"
   ]
  },
  {
   "cell_type": "code",
   "execution_count": null,
   "metadata": {},
   "outputs": [],
   "source": []
  },
  {
   "cell_type": "code",
   "execution_count": null,
   "metadata": {},
   "outputs": [],
   "source": [
    "cycles_3, weights_3 = get_cycles_weights_3(edges)"
   ]
  },
  {
   "cell_type": "code",
   "execution_count": null,
   "metadata": {},
   "outputs": [],
   "source": [
    "assert set(ground_truth_inconsistencies).issubset(cycles_3)"
   ]
  },
  {
   "cell_type": "code",
   "execution_count": null,
   "metadata": {},
   "outputs": [],
   "source": []
  },
  {
   "cell_type": "code",
   "execution_count": null,
   "metadata": {},
   "outputs": [],
   "source": [
    "inc_founds = inconsistencies_3_for_queryset(user)\n",
    "\n",
    "for (v1id, v2id, v3id) in ground_truth_inconsistencies:\n",
    "    v1 = Video.objects.get(pk=v1id)\n",
    "    v2 = Video.objects.get(pk=v2id)\n",
    "    v3 = Video.objects.get(pk=v3id)\n",
    "    \n",
    "    yt_ids = [v1.video_id, v2.video_id, v3.video_id]\n",
    "    \n",
    "    founds = []\n",
    "    for inc_found in inc_founds:\n",
    "        if inc_found['feature'] != 'reliability':\n",
    "            continue\n",
    "        if set(yt_ids) != set(inc_found['videos']):\n",
    "            continue\n",
    "        founds.append(inc_found)\n",
    "    assert len(founds) == 1, (founds, yt_ids)\n",
    "    \n",
    "    inc_found = founds[0]\n",
    "    \n",
    "    cmp = inc_found['comparisons']\n",
    "    assert cmp[0]['videoA'] == yt_ids[0], (cmp, yt_ids)\n",
    "    assert cmp[0]['videoB'] == yt_ids[1], (cmp, yt_ids)\n",
    "    assert cmp[0]['score'] == 0.0\n",
    "    \n",
    "    assert cmp[1]['videoA'] == yt_ids[1], (cmp, yt_ids)\n",
    "    assert cmp[1]['videoB'] == yt_ids[2], (cmp, yt_ids)\n",
    "    assert cmp[1]['score'] == 0.0\n",
    "    \n",
    "    assert cmp[2]['videoA'] == yt_ids[2], (cmp, yt_ids)\n",
    "    assert cmp[2]['videoB'] == yt_ids[0], (cmp, yt_ids)\n",
    "    assert cmp[2]['score'] == 0.0\n",
    "    \n",
    "    assert inc_found['videos'] == yt_ids + [yt_ids[0]]\n",
    "    assert inc_found['weight'] == 0.5"
   ]
  },
  {
   "cell_type": "code",
   "execution_count": null,
   "metadata": {},
   "outputs": [],
   "source": [
    "inc_found"
   ]
  },
  {
   "cell_type": "code",
   "execution_count": null,
   "metadata": {},
   "outputs": [],
   "source": [
    "inconsistencies_3_for_queryset(user)"
   ]
  },
  {
   "cell_type": "code",
   "execution_count": null,
   "metadata": {},
   "outputs": [],
   "source": [
    "%timeit inconsistencies_3_for_queryset(user)"
   ]
  },
  {
   "cell_type": "code",
   "execution_count": null,
   "metadata": {},
   "outputs": [],
   "source": [
    "cycles_3, weights_3"
   ]
  },
  {
   "cell_type": "code",
   "execution_count": null,
   "metadata": {},
   "outputs": [],
   "source": [
    "ground_truth_inconsistencies"
   ]
  },
  {
   "cell_type": "code",
   "execution_count": null,
   "metadata": {},
   "outputs": [],
   "source": [
    "edges = get_edges_list_db(qs, VIDEO_FIELDS[0])"
   ]
  },
  {
   "cell_type": "code",
   "execution_count": null,
   "metadata": {},
   "outputs": [],
   "source": [
    "%timeit get_edges_list_db(qs, VIDEO_FIELDS[0])"
   ]
  },
  {
   "cell_type": "code",
   "execution_count": null,
   "metadata": {},
   "outputs": [],
   "source": [
    "%timeit get_edges_list(qs, VIDEO_FIELDS[0])"
   ]
  },
  {
   "cell_type": "code",
   "execution_count": null,
   "metadata": {},
   "outputs": [],
   "source": [
    "len(get_edges_list(qs, VIDEO_FIELDS[0])), len(get_edges_list_db(qs, VIDEO_FIELDS[0]))"
   ]
  },
  {
   "cell_type": "code",
   "execution_count": null,
   "metadata": {},
   "outputs": [],
   "source": [
    "edges = get_edges_list(qs, VIDEO_FIELDS[0])"
   ]
  },
  {
   "cell_type": "code",
   "execution_count": null,
   "metadata": {},
   "outputs": [],
   "source": [
    "%timeit graph_from_edges(edges)"
   ]
  },
  {
   "cell_type": "code",
   "execution_count": null,
   "metadata": {},
   "outputs": [],
   "source": [
    "%timeit graph_from_edges(get_edges_list(qs, VIDEO_FIELDS[0]))"
   ]
  },
  {
   "cell_type": "code",
   "execution_count": null,
   "metadata": {},
   "outputs": [],
   "source": [
    "qs[0].reliability"
   ]
  },
  {
   "cell_type": "code",
   "execution_count": null,
   "metadata": {},
   "outputs": [],
   "source": [
    "G = graph_from_edges(get_edges_list(qs, VIDEO_FIELDS[0]))"
   ]
  },
  {
   "cell_type": "code",
   "execution_count": null,
   "metadata": {},
   "outputs": [],
   "source": [
    "nx.draw(G, with_labels=False, font_weight='bold')"
   ]
  },
  {
   "cell_type": "code",
   "execution_count": null,
   "metadata": {},
   "outputs": [],
   "source": [
    "inconsistencies_for_queryset(user)"
   ]
  },
  {
   "cell_type": "code",
   "execution_count": null,
   "metadata": {},
   "outputs": [],
   "source": [
    "%timeit inconsistencies_for_queryset(UserPreferences.objects.get(user__username='lenhoang'))"
   ]
  },
  {
   "cell_type": "code",
   "execution_count": null,
   "metadata": {},
   "outputs": [],
   "source": []
  }
 ],
 "metadata": {
  "kernelspec": {
   "display_name": "Django Shell-Plus",
   "language": "python",
   "name": "django_extensions"
  },
  "language_info": {
   "codemirror_mode": {
    "name": "ipython",
    "version": 3
   },
   "file_extension": ".py",
   "mimetype": "text/x-python",
   "name": "python",
   "nbconvert_exporter": "python",
   "pygments_lexer": "ipython3",
   "version": "3.7.9"
  }
 },
 "nbformat": 4,
 "nbformat_minor": 4
}
