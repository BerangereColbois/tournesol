{
 "cells": [
  {
   "cell_type": "code",
   "execution_count": null,
   "metadata": {},
   "outputs": [],
   "source": [
    "import os\n",
    "\n",
    "# for adding the videos to DB\n",
    "# don't use at the same time with the server running\n",
    "# https://stackoverflow.com/questions/59119396/how-to-use-django-3-0-orm-in-a-jupyter-notebook-without-triggering-the-async-con\n",
    "os.environ[\"DJANGO_ALLOW_ASYNC_UNSAFE\"] = \"true\"\n",
    "\n",
    "from backend.models import ExpertRating, Video, VideoRating\n",
    "import numpy as np\n",
    "from backend.rating_fields import VIDEO_FIELDS\n",
    "from tqdm import tqdm\n",
    "import pandas as pd"
   ]
  },
  {
   "cell_type": "code",
   "execution_count": null,
   "metadata": {},
   "outputs": [],
   "source": [
    "def get_mismatches():\n",
    "    \"\"\"Get all mismatches dataframe.\"\"\"\n",
    "    ratings = ExpertRating.objects.all()\n",
    "    mismatches = []\n",
    "\n",
    "    for r in tqdm(ratings):\n",
    "        user = r.user\n",
    "\n",
    "        v1, v2 = r.video_1, r.video_2\n",
    "        vr1 = VideoRating.objects.get(user=user, video=v1)\n",
    "        vr2 = VideoRating.objects.get(user=user, video=v2)\n",
    "\n",
    "        for f in VIDEO_FIELDS:\n",
    "            first_vs_second_rating = getattr(r, f)\n",
    "            first_vs_second_model  = getattr(vr2, f) - getattr(vr1, f)\n",
    "\n",
    "            mismatch = {\n",
    "                'user': user,\n",
    "                'rating': r,\n",
    "                'feature': f,\n",
    "                'input_comparison': first_vs_second_rating,\n",
    "                'rating_1_model': getattr(vr1, f),\n",
    "                'rating_2_model': getattr(vr2, f),\n",
    "                'input_comparison_signed': first_vs_second_rating - 50,\n",
    "                'rating_delta_21': getattr(vr2, f) - getattr(vr1, f),\n",
    "            }\n",
    "\n",
    "            mismatch['mismatch'] = np.sign(mismatch['input_comparison_signed']) != np.sign(mismatch['rating_delta_21'])\n",
    "\n",
    "            mismatches.append(mismatch)\n",
    "    mismatches = pd.DataFrame(mismatches)\n",
    "    return mismatches"
   ]
  },
  {
   "cell_type": "code",
   "execution_count": null,
   "metadata": {},
   "outputs": [],
   "source": [
    "mismatches = get_mismatches()"
   ]
  },
  {
   "cell_type": "code",
   "execution_count": null,
   "metadata": {},
   "outputs": [],
   "source": [
    "np.mean(mismatches.mismatch)"
   ]
  },
  {
   "cell_type": "code",
   "execution_count": null,
   "metadata": {},
   "outputs": [],
   "source": [
    "mismatches[mismatches.mismatch]"
   ]
  },
  {
   "cell_type": "code",
   "execution_count": null,
   "metadata": {},
   "outputs": [],
   "source": []
  }
 ],
 "metadata": {
  "kernelspec": {
   "display_name": "Django Shell-Plus",
   "language": "python",
   "name": "django_extensions"
  },
  "language_info": {
   "codemirror_mode": {
    "name": "ipython",
    "version": 3
   },
   "file_extension": ".py",
   "mimetype": "text/x-python",
   "name": "python",
   "nbconvert_exporter": "python",
   "pygments_lexer": "ipython3",
   "version": "3.7.4"
  }
 },
 "nbformat": 4,
 "nbformat_minor": 4
}
