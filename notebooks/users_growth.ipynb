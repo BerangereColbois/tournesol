{
 "cells": [
  {
   "cell_type": "code",
   "execution_count": null,
   "metadata": {},
   "outputs": [],
   "source": [
    "# don't use at the same time with the server running\n",
    "# https://stackoverflow.com/questions/59119396/how-to-use-django-3-0-orm-in-a-jupyter-notebook-without-triggering-the-async-con\n",
    "import os\n",
    "# import os\n",
    "os.environ[\"DJANGO_ALLOW_ASYNC_UNSAFE\"] = \"true\"\n",
    "os.environ[\"DJANGO_DATABASE\"] = \"dev\"\n",
    "\n",
    "\n",
    "from django.contrib.auth.models import User as DjangoUser\n",
    "from backend.models import UserPreferences, UserInformation\n",
    "from django.db import IntegrityError\n",
    "from matplotlib import pyplot as plt\n",
    "from django_pandas.io import read_frame\n",
    "import numpy as np\n",
    "import seaborn as sns\n",
    "import pandas as pd"
   ]
  },
  {
   "cell_type": "code",
   "execution_count": null,
   "metadata": {},
   "outputs": [],
   "source": [
    "users = DjangoUser.objects.filter(userinformation__is_demo=False)\n",
    "users = UserInformation._annotate_is_certified(users, prefix='userinformation__')\n",
    "users = users.order_by('date_joined')"
   ]
  },
  {
   "cell_type": "code",
   "execution_count": null,
   "metadata": {},
   "outputs": [],
   "source": [
    "df = read_frame(users, fieldnames=('username', 'date_joined', '_is_certified'))\n",
    "df['_is_user'] = [1] * len(df)"
   ]
  },
  {
   "cell_type": "code",
   "execution_count": null,
   "metadata": {},
   "outputs": [],
   "source": [
    "df"
   ]
  },
  {
   "cell_type": "code",
   "execution_count": null,
   "metadata": {},
   "outputs": [],
   "source": [
    "df['n_users'] = df._is_user.cumsum()\n",
    "df['n_certified'] = df._is_certified.cumsum()"
   ]
  },
  {
   "cell_type": "code",
   "execution_count": null,
   "metadata": {},
   "outputs": [],
   "source": [
    "import matplotlib\n",
    "font = {'family' : 'normal',\n",
    "    'weight' : 'normal',\n",
    "    'size'   : 20}\n",
    "\n",
    "matplotlib.rc('font', **font)\n"
   ]
  },
  {
   "cell_type": "code",
   "execution_count": null,
   "metadata": {},
   "outputs": [],
   "source": [
    "def plot_one(title_add=\"\"):\n",
    "    plt.title(f\"Tournesol members over time{title_add}\")\n",
    "    plt.plot(df['date_joined'], df['n_users'], label='Number of Tournesol members')\n",
    "    plt.plot(df['date_joined'], df['n_certified'], label='Number of certified Tournesol members')\n",
    "    plt.legend()\n",
    "    plt.xticks(rotation=45)\n",
    "    \n",
    "plt.figure(figsize=(15, 5))\n",
    "plt.subplot(1, 2, 1)\n",
    "plot_one()\n",
    "plt.subplot(1, 2, 2)\n",
    "plot_one(\" [log scale]\")\n",
    "plt.yscale('log')\n",
    "plt.show()"
   ]
  },
  {
   "cell_type": "code",
   "execution_count": null,
   "metadata": {},
   "outputs": [],
   "source": []
  }
 ],
 "metadata": {
  "kernelspec": {
   "display_name": "Django Shell-Plus",
   "language": "python",
   "name": "django_extensions"
  },
  "language_info": {
   "codemirror_mode": {
    "name": "ipython",
    "version": 3
   },
   "file_extension": ".py",
   "mimetype": "text/x-python",
   "name": "python",
   "nbconvert_exporter": "python",
   "pygments_lexer": "ipython3",
   "version": "3.7.6"
  }
 },
 "nbformat": 4,
 "nbformat_minor": 4
}
