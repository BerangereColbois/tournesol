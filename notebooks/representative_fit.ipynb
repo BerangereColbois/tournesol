{
 "cells": [
  {
   "cell_type": "code",
   "execution_count": null,
   "metadata": {},
   "outputs": [],
   "source": [
    "# don't use at the same time with the server running\n",
    "# https://stackoverflow.com/questions/59119396/how-to-use-django-3-0-orm-in-a-jupyter-notebook-without-triggering-the-async-con\n",
    "import os\n",
    "os.environ[\"DJANGO_ALLOW_ASYNC_UNSAFE\"] = \"true\"\n",
    "\n",
    "from backend.models import UserPreferences, VideoRating\n",
    "from backend.rating_fields import VIDEO_FIELDS\n",
    "import pandas as pd\n",
    "import numpy as np\n",
    "import seaborn as sns\n",
    "from IPython.display import display\n",
    "import datetime\n",
    "import statsmodels.formula.api as sm"
   ]
  },
  {
   "cell_type": "code",
   "execution_count": null,
   "metadata": {},
   "outputs": [],
   "source": [
    "df = pd.DataFrame(list(UserPreferences.objects.all().annotate(n_ratings=Count('expertrating')).values('n_ratings', 'user__username')))\n",
    "df.sort_values('n_ratings', ascending=False)"
   ]
  },
  {
   "cell_type": "code",
   "execution_count": null,
   "metadata": {},
   "outputs": [],
   "source": [
    "username = 'lenhoang'\n",
    "ratings = VideoRating.objects.filter(user__user__username=username).values(*VIDEO_FIELDS, 'video__video_id',\n",
    "                                                                           'video__views', 'video__uploader',\n",
    "                                                                           'video__language', 'video__duration',\n",
    "                                                                           'video__publication_date',\n",
    "                                                                           'video__name', 'video__description')"
   ]
  },
  {
   "cell_type": "code",
   "execution_count": null,
   "metadata": {},
   "outputs": [],
   "source": [
    "df = pd.DataFrame(list(ratings))"
   ]
  },
  {
   "cell_type": "code",
   "execution_count": null,
   "metadata": {},
   "outputs": [],
   "source": [
    "np.unique(df.diversity_inclusion), np.unique(df.layman_friendly)"
   ]
  },
  {
   "cell_type": "code",
   "execution_count": null,
   "metadata": {},
   "outputs": [],
   "source": [
    "del df['diversity_inclusion']\n",
    "del df['layman_friendly']"
   ]
  },
  {
   "cell_type": "code",
   "execution_count": null,
   "metadata": {},
   "outputs": [],
   "source": [
    "VF_ACTIVE = set(VIDEO_FIELDS).intersection(df.columns)"
   ]
  },
  {
   "cell_type": "code",
   "execution_count": null,
   "metadata": {},
   "outputs": [],
   "source": [
    "?df.describe"
   ]
  },
  {
   "cell_type": "code",
   "execution_count": null,
   "metadata": {},
   "outputs": [],
   "source": [
    "df.describe(include='all')"
   ]
  },
  {
   "cell_type": "code",
   "execution_count": null,
   "metadata": {},
   "outputs": [],
   "source": [
    "df_by_uploader = df.groupby('video__uploader').agg('mean')"
   ]
  },
  {
   "cell_type": "code",
   "execution_count": null,
   "metadata": {},
   "outputs": [],
   "source": [
    "for f in VF_ACTIVE:\n",
    "    print(f)\n",
    "    display(df_by_uploader.sort_values(f, ascending=False))"
   ]
  },
  {
   "cell_type": "code",
   "execution_count": null,
   "metadata": {},
   "outputs": [],
   "source": [
    "g = sns.PairGrid(df[VF_ACTIVE], diag_sharey=False)\n",
    "g.map_upper(sns.scatterplot)\n",
    "g.map_lower(sns.kdeplot)\n",
    "g.map_diag(sns.kdeplot)"
   ]
  },
  {
   "cell_type": "code",
   "execution_count": null,
   "metadata": {},
   "outputs": [],
   "source": [
    "langs = sorted(np.unique(list(map(str, df.video__language))))\n",
    "df['video__language__id'] = [langs.index(str(x)) for x in df.video__language]"
   ]
  },
  {
   "cell_type": "code",
   "execution_count": null,
   "metadata": {},
   "outputs": [],
   "source": [
    "df['video__duration__s'] = [z.total_seconds() for z in df.video__duration]\n",
    "df['video__duration__s__log'] = np.log10(df['video__duration__s'])"
   ]
  },
  {
   "cell_type": "code",
   "execution_count": null,
   "metadata": {},
   "outputs": [],
   "source": [
    "df['video__publication_date__days_ago'] = [(datetime.datetime.now().date() - z).days if z else 1 for z in df['video__publication_date']]\n",
    "df['video__publication_date__days_ago__log'] = np.log10(df['video__publication_date__days_ago'])"
   ]
  },
  {
   "cell_type": "code",
   "execution_count": null,
   "metadata": {},
   "outputs": [],
   "source": [
    "df['video__views__log'] = np.log10(df['video__views'])"
   ]
  },
  {
   "cell_type": "code",
   "execution_count": null,
   "metadata": {},
   "outputs": [],
   "source": [
    "x_vars = ['video__views__log',\n",
    "          'video__language__id',\n",
    "          'video__duration__s__log',\n",
    "          'video__publication_date__days_ago__log',]\n",
    "y_vars = VF_ACTIVE"
   ]
  },
  {
   "cell_type": "code",
   "execution_count": null,
   "metadata": {},
   "outputs": [],
   "source": [
    "g = sns.PairGrid(df, x_vars=x_vars, y_vars=y_vars)\n",
    "g.map(sns.kdeplot)\n",
    "# g.map(sns.scatterplot)\n",
    "# g.map_diag(sns.kdeplot)"
   ]
  },
  {
   "cell_type": "code",
   "execution_count": null,
   "metadata": {},
   "outputs": [],
   "source": [
    "list(zip(range(len(langs)), langs))"
   ]
  },
  {
   "cell_type": "code",
   "execution_count": null,
   "metadata": {},
   "outputs": [],
   "source": [
    "for f in VF_ACTIVE:\n",
    "    print(f)\n",
    "    r = sm.ols(formula=f'{f} ~ video__views__log + video__language__id +'\n",
    "           'video__duration__s__log + video__publication_date__days_ago__log', data=df).fit()\n",
    "    display(r.summary())"
   ]
  },
  {
   "cell_type": "code",
   "execution_count": null,
   "metadata": {},
   "outputs": [],
   "source": [
    "for f in VF_ACTIVE:\n",
    "    print(f)\n",
    "    others = '+'.join(set(VF_ACTIVE).difference([f]))\n",
    "    r = sm.ols(formula=f'{f} ~ {others}', data=df).fit()\n",
    "    display(r.summary())"
   ]
  },
  {
   "cell_type": "code",
   "execution_count": null,
   "metadata": {},
   "outputs": [],
   "source": [
    "sns.heatmap(df[VF_ACTIVE].corr())"
   ]
  },
  {
   "cell_type": "code",
   "execution_count": null,
   "metadata": {},
   "outputs": [],
   "source": []
  }
 ],
 "metadata": {
  "kernelspec": {
   "display_name": "Django Shell-Plus",
   "language": "python",
   "name": "django_extensions"
  },
  "language_info": {
   "codemirror_mode": {
    "name": "ipython",
    "version": 3
   },
   "file_extension": ".py",
   "mimetype": "text/x-python",
   "name": "python",
   "nbconvert_exporter": "python",
   "pygments_lexer": "ipython3",
   "version": "3.7.9"
  }
 },
 "nbformat": 4,
 "nbformat_minor": 4
}
